{
 "cells": [
  {
   "cell_type": "markdown",
   "id": "d675107e",
   "metadata": {},
   "source": [
    "## Functions"
   ]
  },
  {
   "cell_type": "code",
   "execution_count": 4,
   "id": "67c25d64",
   "metadata": {},
   "outputs": [
    {
     "name": "stdout",
     "output_type": "stream",
     "text": [
      "Manoj\n",
      "Manoj\n",
      "Manoj\n"
     ]
    }
   ],
   "source": [
    "n=3\n",
    "s=\"Manoj\"\n",
    "for i in range(n):\n",
    "    print(s)"
   ]
  },
  {
   "cell_type": "code",
   "execution_count": 5,
   "id": "ce17e52c",
   "metadata": {},
   "outputs": [
    {
     "name": "stdout",
     "output_type": "stream",
     "text": [
      "Arun\n",
      "Arun\n",
      "Arun\n"
     ]
    }
   ],
   "source": [
    "n=3\n",
    "s=\"Arun\"\n",
    "for i in range(n):\n",
    "    print(s)"
   ]
  },
  {
   "cell_type": "code",
   "execution_count": 6,
   "id": "785d3cdb",
   "metadata": {},
   "outputs": [
    {
     "name": "stdout",
     "output_type": "stream",
     "text": [
      "Pradeep\n",
      "Pradeep\n",
      "Pradeep\n"
     ]
    }
   ],
   "source": [
    "n=3\n",
    "s=\"Pradeep\"\n",
    "for i in range(n):\n",
    "    print(s)"
   ]
  },
  {
   "cell_type": "code",
   "execution_count": 8,
   "id": "15841643",
   "metadata": {},
   "outputs": [
    {
     "name": "stdout",
     "output_type": "stream",
     "text": [
      "Python\n",
      "Python\n",
      "Python\n",
      "Python\n"
     ]
    }
   ],
   "source": [
    "n=4\n",
    "s=\"Python\"\n",
    "for i in range(n):\n",
    "    print(s)"
   ]
  },
  {
   "cell_type": "code",
   "execution_count": 9,
   "id": "88626758",
   "metadata": {},
   "outputs": [],
   "source": [
    "def fun():\n",
    "    print(\"hello\")"
   ]
  },
  {
   "cell_type": "code",
   "execution_count": 10,
   "id": "ef38b2d1",
   "metadata": {},
   "outputs": [
    {
     "name": "stdout",
     "output_type": "stream",
     "text": [
      "hello\n"
     ]
    }
   ],
   "source": [
    "fun()"
   ]
  },
  {
   "cell_type": "code",
   "execution_count": 13,
   "id": "f21e4bef",
   "metadata": {},
   "outputs": [],
   "source": [
    "def rocky_bhai():\n",
    "    for i in range(5):\n",
    "        print(\"Voilance....\")"
   ]
  },
  {
   "cell_type": "code",
   "execution_count": 14,
   "id": "42de94a9",
   "metadata": {},
   "outputs": [
    {
     "name": "stdout",
     "output_type": "stream",
     "text": [
      "Voilance....\n",
      "Voilance....\n",
      "Voilance....\n",
      "Voilance....\n",
      "Voilance....\n"
     ]
    }
   ],
   "source": [
    "rocky_bhai()"
   ]
  },
  {
   "cell_type": "code",
   "execution_count": 15,
   "id": "b105fa9e",
   "metadata": {},
   "outputs": [],
   "source": [
    "def rocky_bhai(n):\n",
    "    for i in range(n):\n",
    "        print(\"Voilance....\")"
   ]
  },
  {
   "cell_type": "code",
   "execution_count": 16,
   "id": "21f35106",
   "metadata": {},
   "outputs": [
    {
     "name": "stdout",
     "output_type": "stream",
     "text": [
      "Voilance....\n",
      "Voilance....\n",
      "Voilance....\n",
      "Voilance....\n",
      "Voilance....\n"
     ]
    }
   ],
   "source": [
    "rocky_bhai(5)"
   ]
  },
  {
   "cell_type": "code",
   "execution_count": 18,
   "id": "d8b1f59c",
   "metadata": {},
   "outputs": [
    {
     "name": "stdout",
     "output_type": "stream",
     "text": [
      "Danger.....\n",
      "Voilance....\n",
      "Voilance....\n",
      "Voilance....\n",
      "Voilance....\n",
      "Voilance....\n"
     ]
    }
   ],
   "source": [
    "def rocky_bhai(n):\n",
    "    for i in range(n):\n",
    "        print(\"Voilance....\")\n",
    "\n",
    "print(\"Danger.....\")\n",
    "rocky_bhai(5)\n"
   ]
  },
  {
   "cell_type": "code",
   "execution_count": 24,
   "id": "75054646",
   "metadata": {},
   "outputs": [
    {
     "name": "stdout",
     "output_type": "stream",
     "text": [
      "Danger.....\n"
     ]
    },
    {
     "ename": "TypeError",
     "evalue": "rocky_bhai() takes 0 positional arguments but 1 was given",
     "output_type": "error",
     "traceback": [
      "\u001b[31m---------------------------------------------------------------------------\u001b[39m",
      "\u001b[31mTypeError\u001b[39m                                 Traceback (most recent call last)",
      "\u001b[36mCell\u001b[39m\u001b[36m \u001b[39m\u001b[32mIn[24]\u001b[39m\u001b[32m, line 6\u001b[39m\n\u001b[32m      3\u001b[39m         \u001b[38;5;28mprint\u001b[39m(\u001b[33m\"\u001b[39m\u001b[33mVoilance....\u001b[39m\u001b[33m\"\u001b[39m)\n\u001b[32m      5\u001b[39m \u001b[38;5;28mprint\u001b[39m(\u001b[33m\"\u001b[39m\u001b[33mDanger.....\u001b[39m\u001b[33m\"\u001b[39m)\n\u001b[32m----> \u001b[39m\u001b[32m6\u001b[39m \u001b[43mrocky_bhai\u001b[49m\u001b[43m(\u001b[49m\u001b[32;43m5\u001b[39;49m\u001b[43m)\u001b[49m\n",
      "\u001b[31mTypeError\u001b[39m: rocky_bhai() takes 0 positional arguments but 1 was given"
     ]
    }
   ],
   "source": [
    "def rocky_bhai():\n",
    "    for i in range(1):\n",
    "        print(\"Voilance....\")\n",
    "\n",
    "print(\"Danger.....\")\n",
    "rocky_bhai(5)"
   ]
  },
  {
   "cell_type": "code",
   "execution_count": 25,
   "id": "1edf8a97",
   "metadata": {},
   "outputs": [
    {
     "name": "stdout",
     "output_type": "stream",
     "text": [
      "Danger.....\n",
      "Voilance....\n",
      "Voilance....\n",
      "Voilance....\n",
      "Voilance....\n",
      "Voilance....\n",
      "Adheera your dead..\n",
      "Voilance....\n",
      "Voilance....\n",
      "Voilance....\n",
      "Voilance....\n",
      "Voilance....\n",
      "Voilance....\n",
      "Voilance....\n",
      "Voilance....\n",
      "Voilance....\n",
      "Voilance....\n"
     ]
    }
   ],
   "source": [
    "def rocky_bhai(n):\n",
    "    for i in range(n):\n",
    "        print(\"Voilance....\")\n",
    "\n",
    "print(\"Danger.....\")\n",
    "rocky_bhai(5)\n",
    "print(\"Adheera your dead..\")\n",
    "rocky_bhai(10)\n"
   ]
  },
  {
   "cell_type": "code",
   "execution_count": 28,
   "id": "b6dc7b68",
   "metadata": {},
   "outputs": [
    {
     "name": "stdout",
     "output_type": "stream",
     "text": [
      "Danger.....\n",
      "Voilance....\n",
      "i dont like voilance\n",
      "Adheera your dead..\n"
     ]
    }
   ],
   "source": [
    "def rocky_bhai(n,s):\n",
    "    for i in range(n):\n",
    "        print(\"Voilance....\")\n",
    "        print(s)\n",
    "\n",
    "print(\"Danger.....\")\n",
    "rocky_bhai(1,\"i dont like voilance\")\n",
    "print(\"Adheera your dead..\")\n",
    "# rocky_bhai(10)"
   ]
  },
  {
   "cell_type": "code",
   "execution_count": 31,
   "id": "155e259a",
   "metadata": {},
   "outputs": [
    {
     "name": "stdout",
     "output_type": "stream",
     "text": [
      "Voilance....\n",
      "Python\n",
      "Voilance....\n",
      "Python\n",
      "Voilance....\n",
      "Python\n",
      "Voilance....\n",
      "Python\n",
      "None\n"
     ]
    }
   ],
   "source": [
    "print(rocky_bhai(n,s))"
   ]
  },
  {
   "cell_type": "code",
   "execution_count": 32,
   "id": "fbb2ebae",
   "metadata": {},
   "outputs": [
    {
     "name": "stdout",
     "output_type": "stream",
     "text": [
      "Voilance....\n"
     ]
    },
    {
     "data": {
      "text/plain": [
       "8"
      ]
     },
     "execution_count": 32,
     "metadata": {},
     "output_type": "execute_result"
    }
   ],
   "source": [
    "def rocky_bhai(n,s):\n",
    "    for i in range(n):\n",
    "        print(\"Voilance....\")\n",
    "    return 8\n",
    "\n",
    "rocky_bhai(1,\"i dont like voilance\")\n",
    "\n"
   ]
  },
  {
   "cell_type": "code",
   "execution_count": 33,
   "id": "5d03199b",
   "metadata": {},
   "outputs": [
    {
     "data": {
      "text/plain": [
       "8"
      ]
     },
     "execution_count": 33,
     "metadata": {},
     "output_type": "execute_result"
    }
   ],
   "source": [
    "def fun():\n",
    "    return 8\n",
    "\n",
    "fun()"
   ]
  },
  {
   "cell_type": "code",
   "execution_count": 35,
   "id": "b06fb748",
   "metadata": {},
   "outputs": [
    {
     "name": "stdout",
     "output_type": "stream",
     "text": [
      "8\n"
     ]
    }
   ],
   "source": [
    "def fun():\n",
    "    return 8\n",
    "\n",
    "rocky=fun()\n",
    "print(rocky)"
   ]
  },
  {
   "cell_type": "code",
   "execution_count": 36,
   "id": "5ac9e9d2",
   "metadata": {},
   "outputs": [
    {
     "name": "stdout",
     "output_type": "stream",
     "text": [
      "8\n"
     ]
    }
   ],
   "source": [
    "def fun(n):\n",
    "    return n\n",
    "\n",
    "rocky=fun(8)\n",
    "print(rocky)"
   ]
  },
  {
   "cell_type": "code",
   "execution_count": 37,
   "id": "d1d61321",
   "metadata": {},
   "outputs": [
    {
     "name": "stdout",
     "output_type": "stream",
     "text": [
      "48\n"
     ]
    }
   ],
   "source": [
    "def fun(n):\n",
    "    return n * 6\n",
    "\n",
    "rocky=fun(8)\n",
    "print(rocky)"
   ]
  },
  {
   "cell_type": "code",
   "execution_count": 38,
   "id": "7d0dbe85",
   "metadata": {},
   "outputs": [
    {
     "name": "stdout",
     "output_type": "stream",
     "text": [
      "Manoj\n"
     ]
    }
   ],
   "source": [
    "def fun(n):\n",
    "    return n\n",
    "\n",
    "rocky=fun(\"Manoj\")\n",
    "print(rocky)"
   ]
  },
  {
   "cell_type": "code",
   "execution_count": 39,
   "id": "38a23bcf",
   "metadata": {},
   "outputs": [
    {
     "name": "stdout",
     "output_type": "stream",
     "text": [
      "5 X 1 = 5\n",
      "5 X 2 = 10\n",
      "5 X 3 = 15\n",
      "5 X 4 = 20\n",
      "5 X 5 = 25\n",
      "5 X 6 = 30\n",
      "5 X 7 = 35\n",
      "5 X 8 = 40\n",
      "5 X 9 = 45\n",
      "5 X 10 = 50\n"
     ]
    }
   ],
   "source": [
    "# Printing the table\n",
    "\n",
    "def table(n):\n",
    "    for i in range(1,11):\n",
    "        print(f\"{n} X {i} = {n*i}\")\n",
    "    \n",
    "table(5)"
   ]
  },
  {
   "cell_type": "code",
   "execution_count": 40,
   "id": "f4f49a0b",
   "metadata": {},
   "outputs": [
    {
     "name": "stdout",
     "output_type": "stream",
     "text": [
      "10 X 1 = 10\n",
      "10 X 2 = 20\n",
      "10 X 3 = 30\n",
      "10 X 4 = 40\n",
      "10 X 5 = 50\n",
      "10 X 6 = 60\n",
      "10 X 7 = 70\n",
      "10 X 8 = 80\n",
      "10 X 9 = 90\n",
      "10 X 10 = 100\n"
     ]
    }
   ],
   "source": [
    "table(10)"
   ]
  },
  {
   "cell_type": "code",
   "execution_count": null,
   "id": "ac466424",
   "metadata": {},
   "outputs": [
    {
     "ename": "SyntaxError",
     "evalue": "invalid syntax. Perhaps you forgot a comma? (2843114357.py, line 3)",
     "output_type": "error",
     "traceback": [
      "  \u001b[36mCell\u001b[39m\u001b[36m \u001b[39m\u001b[32mIn[41]\u001b[39m\u001b[32m, line 3\u001b[39m\n\u001b[31m    \u001b[39m\u001b[31mprint(str(n)+\"*\"str(i)\"==\"str(n*i))\u001b[39m\n          ^\n\u001b[31mSyntaxError\u001b[39m\u001b[31m:\u001b[39m invalid syntax. Perhaps you forgot a comma?\n"
     ]
    }
   ],
   "source": [
    "def table(n):\n",
    "    for i in range(1,11):\n",
    "        print(str(n)+\"*\"str(i)\"==\"str(n*i))\n",
    "    \n",
    "table(5)"
   ]
  },
  {
   "cell_type": "code",
   "execution_count": 42,
   "id": "a961bf15",
   "metadata": {},
   "outputs": [
    {
     "name": "stdout",
     "output_type": "stream",
     "text": [
      "5 * 1 = 5\n",
      "5 * 2 = 10\n",
      "5 * 3 = 15\n",
      "5 * 4 = 20\n",
      "5 * 5 = 25\n",
      "5 * 6 = 30\n",
      "5 * 7 = 35\n",
      "5 * 8 = 40\n",
      "5 * 9 = 45\n",
      "5 * 10 = 50\n"
     ]
    }
   ],
   "source": [
    "def table(n):\n",
    "    for i in range(1,11):\n",
    "         print(str(n) + \" * \" + str(i) + \" = \" + str(n * i))\n",
    "    \n",
    "table(5)"
   ]
  },
  {
   "cell_type": "code",
   "execution_count": null,
   "id": "3ae4b45c",
   "metadata": {},
   "outputs": [],
   "source": []
  }
 ],
 "metadata": {
  "kernelspec": {
   "display_name": "pythonclass-py-3.12",
   "language": "python",
   "name": "python3"
  },
  "language_info": {
   "codemirror_mode": {
    "name": "ipython",
    "version": 3
   },
   "file_extension": ".py",
   "mimetype": "text/x-python",
   "name": "python",
   "nbconvert_exporter": "python",
   "pygments_lexer": "ipython3",
   "version": "3.12.10"
  }
 },
 "nbformat": 4,
 "nbformat_minor": 5
}
