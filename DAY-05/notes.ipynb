{
 "cells": [
  {
   "cell_type": "code",
   "execution_count": null,
   "id": "3d490ca3",
   "metadata": {},
   "outputs": [],
   "source": [
    "s=\"aabaea\"\n",
    "n=len(s)//2\n",
    "m=n*2\n",
    "valid = True\n",
    "for i in range(n):\n",
    "    left=s[i]\n",
    "    right=s[m-i-1]\n",
    "    if left != right:\n",
    "        break\n",
    "    print(left,right)\n",
    "\n",
    "if left ==right:\n",
    "    print(\"Yes Its palindrome\")\n",
    "else:\n",
    "    print(\"No Its not palindrome\")"
   ]
  }
 ],
 "metadata": {
  "language_info": {
   "name": "python"
  }
 },
 "nbformat": 4,
 "nbformat_minor": 5
}
