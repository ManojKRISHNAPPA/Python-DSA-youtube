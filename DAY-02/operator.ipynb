{
 "cells": [
  {
   "cell_type": "markdown",
   "id": "af688b73",
   "metadata": {},
   "source": [
    "# Operators\n",
    "\n",
    "## Arthimetic operators\n",
    "- additon (+)\n",
    "- substraction (-)\n",
    "- multiplication (*)\n",
    "- division (/)\n",
    "- floor division (//)\n",
    "- modulus (%)\n",
    "- exponentiation (**) \n",
    "\n",
    "## Comparasion operators\n",
    "- Equal to \n",
    "- Not Equal to\n",
    "- greater than\n",
    "- less tha\n",
    "- Greater than or equal to \n",
    "- less than or equal\n",
    "\n",
    "## Logical operators\n",
    "- AND\n",
    "- OR\n",
    "- NOT\n",
    "\n"
   ]
  },
  {
   "cell_type": "code",
   "execution_count": 4,
   "id": "94c89e46",
   "metadata": {},
   "outputs": [],
   "source": [
    "a=20\n",
    "b=10"
   ]
  },
  {
   "cell_type": "code",
   "execution_count": 5,
   "id": "19cd8369",
   "metadata": {},
   "outputs": [
    {
     "name": "stdout",
     "output_type": "stream",
     "text": [
      "30\n"
     ]
    }
   ],
   "source": [
    "# Addition\n",
    "add_result = a+b\n",
    "print(add_result)"
   ]
  },
  {
   "cell_type": "code",
   "execution_count": null,
   "id": "91116281",
   "metadata": {},
   "outputs": [
    {
     "name": "stdout",
     "output_type": "stream",
     "text": [
      "10\n"
     ]
    }
   ],
   "source": [
    "# substractions\n",
    "sub_result= a - b\n",
    "print(sub_result)"
   ]
  },
  {
   "cell_type": "code",
   "execution_count": 8,
   "id": "b5f85f17",
   "metadata": {},
   "outputs": [
    {
     "name": "stdout",
     "output_type": "stream",
     "text": [
      "200\n"
     ]
    }
   ],
   "source": [
    "# multiplication\n",
    "mul_result = a*b\n",
    "print(mul_result)"
   ]
  },
  {
   "cell_type": "code",
   "execution_count": null,
   "id": "e3b1ede3",
   "metadata": {},
   "outputs": [
    {
     "name": "stdout",
     "output_type": "stream",
     "text": [
      "2.0\n"
     ]
    }
   ],
   "source": [
    "# division\n",
    "div_result = a/b\n",
    "print(div_result)\n"
   ]
  },
  {
   "cell_type": "code",
   "execution_count": null,
   "id": "9f33a71f",
   "metadata": {},
   "outputs": [
    {
     "name": "stdout",
     "output_type": "stream",
     "text": [
      "2\n"
     ]
    }
   ],
   "source": [
    "## floor division\n",
    "div_result = a//b\n",
    "print(div_result)"
   ]
  },
  {
   "cell_type": "code",
   "execution_count": 11,
   "id": "28286972",
   "metadata": {},
   "outputs": [
    {
     "data": {
      "text/plain": [
       "10.5"
      ]
     },
     "execution_count": 11,
     "metadata": {},
     "output_type": "execute_result"
    }
   ],
   "source": [
    "a=21\n",
    "b=2\n",
    "\n",
    "a/b"
   ]
  },
  {
   "cell_type": "code",
   "execution_count": 12,
   "id": "e159db10",
   "metadata": {},
   "outputs": [
    {
     "data": {
      "text/plain": [
       "10"
      ]
     },
     "execution_count": 12,
     "metadata": {},
     "output_type": "execute_result"
    }
   ],
   "source": [
    "a//b"
   ]
  },
  {
   "cell_type": "code",
   "execution_count": null,
   "id": "148381fc",
   "metadata": {},
   "outputs": [
    {
     "data": {
      "text/plain": [
       "1"
      ]
     },
     "execution_count": 13,
     "metadata": {},
     "output_type": "execute_result"
    }
   ],
   "source": [
    "a%b"
   ]
  },
  {
   "cell_type": "code",
   "execution_count": 14,
   "id": "3d2d03f7",
   "metadata": {},
   "outputs": [
    {
     "data": {
      "text/plain": [
       "441"
      ]
     },
     "execution_count": 14,
     "metadata": {},
     "output_type": "execute_result"
    }
   ],
   "source": [
    "a**b"
   ]
  },
  {
   "cell_type": "code",
   "execution_count": null,
   "id": "a0f237ab",
   "metadata": {},
   "outputs": [
    {
     "data": {
      "text/plain": [
       "True"
      ]
     },
     "execution_count": 15,
     "metadata": {},
     "output_type": "execute_result"
    }
   ],
   "source": [
    "# comparsion operators\n",
    "# == Equals to operator\n",
    "a=10\n",
    "b=10\n",
    "\n",
    "a==b"
   ]
  },
  {
   "cell_type": "code",
   "execution_count": 18,
   "id": "6c6af3e3",
   "metadata": {},
   "outputs": [
    {
     "data": {
      "text/plain": [
       "False"
      ]
     },
     "execution_count": 18,
     "metadata": {},
     "output_type": "execute_result"
    }
   ],
   "source": [
    "a=10\n",
    "b=20\n",
    "\n",
    "a==b"
   ]
  },
  {
   "cell_type": "code",
   "execution_count": 19,
   "id": "3b39408f",
   "metadata": {},
   "outputs": [
    {
     "data": {
      "text/plain": [
       "True"
      ]
     },
     "execution_count": 19,
     "metadata": {},
     "output_type": "execute_result"
    }
   ],
   "source": [
    "a=10\n",
    "b=20\n",
    "\n",
    "a!=b"
   ]
  },
  {
   "cell_type": "code",
   "execution_count": 20,
   "id": "4225dfd2",
   "metadata": {},
   "outputs": [
    {
     "data": {
      "text/plain": [
       "False"
      ]
     },
     "execution_count": 20,
     "metadata": {},
     "output_type": "execute_result"
    }
   ],
   "source": [
    "age1=20\n",
    "age2=30\n",
    "\n",
    "age1>age2\n"
   ]
  },
  {
   "cell_type": "code",
   "execution_count": 21,
   "id": "7f956df2",
   "metadata": {},
   "outputs": [
    {
     "data": {
      "text/plain": [
       "True"
      ]
     },
     "execution_count": 21,
     "metadata": {},
     "output_type": "execute_result"
    }
   ],
   "source": [
    "age1=20\n",
    "age2=30\n",
    "\n",
    "age1<age2"
   ]
  },
  {
   "cell_type": "code",
   "execution_count": 22,
   "id": "113db7cd",
   "metadata": {},
   "outputs": [
    {
     "data": {
      "text/plain": [
       "True"
      ]
     },
     "execution_count": 22,
     "metadata": {},
     "output_type": "execute_result"
    }
   ],
   "source": [
    "age1=20\n",
    "age2=30\n",
    "\n",
    "age1<=age2"
   ]
  },
  {
   "cell_type": "code",
   "execution_count": 26,
   "id": "61c19e27",
   "metadata": {},
   "outputs": [
    {
     "data": {
      "text/plain": [
       "True"
      ]
     },
     "execution_count": 26,
     "metadata": {},
     "output_type": "execute_result"
    }
   ],
   "source": [
    "age1=30\n",
    "age2=30\n",
    "\n",
    "age1>=age2"
   ]
  },
  {
   "cell_type": "code",
   "execution_count": 27,
   "id": "9f27c7fa",
   "metadata": {},
   "outputs": [
    {
     "ename": "SyntaxError",
     "evalue": "invalid syntax (3700814620.py, line 6)",
     "output_type": "error",
     "traceback": [
      "  \u001b[36mCell\u001b[39m\u001b[36m \u001b[39m\u001b[32mIn[27]\u001b[39m\u001b[32m, line 6\u001b[39m\n\u001b[31m    \u001b[39m\u001b[31mresult X and Y\u001b[39m\n           ^\n\u001b[31mSyntaxError\u001b[39m\u001b[31m:\u001b[39m invalid syntax\n"
     ]
    }
   ],
   "source": [
    "#logical operators\n",
    "\n",
    "# and\n",
    "X=True\n",
    "Y=True\n",
    "result X and Y\n",
    "print(result)"
   ]
  },
  {
   "cell_type": "code",
   "execution_count": 28,
   "id": "552ad8a6",
   "metadata": {},
   "outputs": [
    {
     "name": "stdout",
     "output_type": "stream",
     "text": [
      "True\n"
     ]
    }
   ],
   "source": [
    "#logical operators\n",
    "\n",
    "# and\n",
    "X=True\n",
    "Y=True\n",
    "result=X and Y\n",
    "print(result)"
   ]
  },
  {
   "cell_type": "code",
   "execution_count": 30,
   "id": "1fb0302c",
   "metadata": {},
   "outputs": [
    {
     "name": "stdout",
     "output_type": "stream",
     "text": [
      "True\n"
     ]
    }
   ],
   "source": [
    "# or\n",
    "X=True\n",
    "Y=False\n",
    "result=X or Y\n",
    "print(result)"
   ]
  },
  {
   "cell_type": "code",
   "execution_count": 32,
   "id": "fcb75502",
   "metadata": {},
   "outputs": [
    {
     "name": "stdout",
     "output_type": "stream",
     "text": [
      "False\n"
     ]
    }
   ],
   "source": [
    "# or\n",
    "X=False\n",
    "Y=False\n",
    "result=X or Y\n",
    "print(result)"
   ]
  },
  {
   "cell_type": "code",
   "execution_count": null,
   "id": "e20b0c6f",
   "metadata": {},
   "outputs": [],
   "source": [
    "#NOT\n"
   ]
  },
  {
   "cell_type": "code",
   "execution_count": null,
   "id": "cfb83b6c",
   "metadata": {},
   "outputs": [
    {
     "ename": "SyntaxError",
     "evalue": "invalid syntax (4136863390.py, line 10)",
     "output_type": "error",
     "traceback": [
      "  \u001b[36mCell\u001b[39m\u001b[36m \u001b[39m\u001b[32mIn[33]\u001b[39m\u001b[32m, line 10\u001b[39m\n\u001b[31m    \u001b[39m\u001b[31mfloor_division =. num1 // num2\u001b[39m\n                    ^\n\u001b[31mSyntaxError\u001b[39m\u001b[31m:\u001b[39m invalid syntax\n"
     ]
    }
   ],
   "source": [
    "# Simple calaculator\n",
    "\n",
    "num1 = float(input(\"Enter the first number: \"))\n",
    "num2 = float(input(\"Enter the second number: \"))\n",
    "\n",
    "addition = num1 + num2\n",
    "subtraction = num1 - num2\n",
    "multiplication = num1 * num2\n",
    "division = num1 / num2\n",
    "floor_division = num1 // num2\n",
    "modulus = num1 % num2\n",
    "exponentiation = num1 ** num2\n",
    "\n",
    "\n",
    "print(\"Addition: \", addition)   \n",
    "print(\"Susubtraction\",subtraction)\n",
    "print(\"multiplication\",multiplication)\n",
    "print(\"division\",division)\n",
    "print(\"floor division\",floor_division)\n",
    "print(\"modulus\",modulus)\n",
    "print(\"exponentiation\",exponentiation)\n"
   ]
  },
  {
   "cell_type": "code",
   "execution_count": 34,
   "id": "6f1ee4f9",
   "metadata": {},
   "outputs": [
    {
     "name": "stdout",
     "output_type": "stream",
     "text": [
      "Addition:  15.0\n",
      "Susubtraction 5.0\n",
      "multiplication 50.0\n",
      "division 2.0\n",
      "floor division 2.0\n",
      "modulus 0.0\n",
      "exponentiation 100000.0\n"
     ]
    }
   ],
   "source": [
    "# Simple calaculator\n",
    "\n",
    "num1 = float(input(\"Enter the first number: \"))\n",
    "num2 = float(input(\"Enter the second number: \"))\n",
    "\n",
    "addition = num1 + num2\n",
    "subtraction = num1 - num2\n",
    "multiplication = num1 * num2\n",
    "division = num1 / num2\n",
    "floor_division = num1 // num2\n",
    "modulus = num1 % num2\n",
    "exponentiation = num1 ** num2\n",
    "\n",
    "\n",
    "print(\"Addition: \", addition)   \n",
    "print(\"Susubtraction\",subtraction)\n",
    "print(\"multiplication\",multiplication)\n",
    "print(\"division\",division)\n",
    "print(\"floor division\",floor_division)\n",
    "print(\"modulus\",modulus)\n",
    "print(\"exponentiation\",exponentiation)\n"
   ]
  },
  {
   "cell_type": "code",
   "execution_count": 35,
   "id": "0472f2fd",
   "metadata": {},
   "outputs": [
    {
     "name": "stdout",
     "output_type": "stream",
     "text": [
      "Addition:  26.0\n",
      "Susubtraction 16.0\n",
      "multiplication 105.0\n",
      "division 4.2\n",
      "floor division 4.0\n",
      "modulus 1.0\n",
      "exponentiation 4084101.0\n"
     ]
    }
   ],
   "source": [
    "# Simple calaculator\n",
    "\n",
    "num1 = float(input(\"Enter the first number: \"))\n",
    "num2 = float(input(\"Enter the second number: \"))\n",
    "\n",
    "addition = num1 + num2\n",
    "subtraction = num1 - num2\n",
    "multiplication = num1 * num2\n",
    "division = num1 / num2\n",
    "floor_division = num1 // num2\n",
    "modulus = num1 % num2\n",
    "exponentiation = num1 ** num2\n",
    "\n",
    "\n",
    "print(\"Addition: \", addition)   \n",
    "print(\"Susubtraction\",subtraction)\n",
    "print(\"multiplication\",multiplication)\n",
    "print(\"division\",division)\n",
    "print(\"floor division\",floor_division)\n",
    "print(\"modulus\",modulus)\n",
    "print(\"exponentiation\",exponentiation)\n"
   ]
  },
  {
   "cell_type": "code",
   "execution_count": 1,
   "id": "dc37cea7",
   "metadata": {},
   "outputs": [
    {
     "data": {
      "text/plain": [
       "True"
      ]
     },
     "execution_count": 1,
     "metadata": {},
     "output_type": "execute_result"
    }
   ],
   "source": [
    "x=False\n",
    "not x"
   ]
  },
  {
   "cell_type": "code",
   "execution_count": null,
   "id": "d56263b7",
   "metadata": {},
   "outputs": [],
   "source": []
  }
 ],
 "metadata": {
  "kernelspec": {
   "display_name": "pythonclass-py-3.12",
   "language": "python",
   "name": "python3"
  },
  "language_info": {
   "codemirror_mode": {
    "name": "ipython",
    "version": 3
   },
   "file_extension": ".py",
   "mimetype": "text/x-python",
   "name": "python",
   "nbconvert_exporter": "python",
   "pygments_lexer": "ipython3",
   "version": "3.12.10"
  }
 },
 "nbformat": 4,
 "nbformat_minor": 5
}
