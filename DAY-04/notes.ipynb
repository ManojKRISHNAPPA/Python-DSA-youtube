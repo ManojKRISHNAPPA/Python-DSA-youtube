{
 "cells": [
  {
   "cell_type": "markdown",
   "id": "7bd65d59",
   "metadata": {},
   "source": [
    "# Reverse string\n",
    "# Palindrome "
   ]
  },
  {
   "cell_type": "code",
   "execution_count": 1,
   "id": "f356b223",
   "metadata": {},
   "outputs": [],
   "source": [
    "s=\"abcd\""
   ]
  },
  {
   "cell_type": "code",
   "execution_count": 2,
   "id": "d3ad729a",
   "metadata": {},
   "outputs": [
    {
     "name": "stdout",
     "output_type": "stream",
     "text": [
      "abcd\n"
     ]
    }
   ],
   "source": [
    "print(s)"
   ]
  },
  {
   "cell_type": "code",
   "execution_count": 4,
   "id": "656be5d8",
   "metadata": {},
   "outputs": [
    {
     "name": "stdout",
     "output_type": "stream",
     "text": [
      "[0, 1, 2, 3, 4]\n"
     ]
    }
   ],
   "source": [
    "print(list(range(5)))"
   ]
  },
  {
   "cell_type": "code",
   "execution_count": 5,
   "id": "0115e35b",
   "metadata": {},
   "outputs": [
    {
     "name": "stdout",
     "output_type": "stream",
     "text": [
      "[1, 2, 3, 4]\n"
     ]
    }
   ],
   "source": [
    "print(list(range(1,5)))"
   ]
  },
  {
   "cell_type": "code",
   "execution_count": 6,
   "id": "b54652c5",
   "metadata": {},
   "outputs": [
    {
     "name": "stdout",
     "output_type": "stream",
     "text": [
      "[1, 2, 3, 4]\n"
     ]
    }
   ],
   "source": [
    "print(list(range(1,5,1)))"
   ]
  },
  {
   "cell_type": "code",
   "execution_count": 7,
   "id": "2744dd05",
   "metadata": {},
   "outputs": [
    {
     "name": "stdout",
     "output_type": "stream",
     "text": [
      "[1, 3]\n"
     ]
    }
   ],
   "source": [
    "print(list(range(1,5,2)))"
   ]
  },
  {
   "cell_type": "code",
   "execution_count": 11,
   "id": "2e8df1ac",
   "metadata": {},
   "outputs": [
    {
     "name": "stdout",
     "output_type": "stream",
     "text": [
      "a\n",
      "b\n",
      "c\n",
      "d\n"
     ]
    }
   ],
   "source": [
    "s=\"abcd\"\n",
    "print(s[0])\n",
    "print(s[1])\n",
    "print(s[2])\n",
    "print(s[3])"
   ]
  },
  {
   "cell_type": "code",
   "execution_count": 13,
   "id": "2841984a",
   "metadata": {},
   "outputs": [
    {
     "name": "stdout",
     "output_type": "stream",
     "text": [
      "4\n"
     ]
    }
   ],
   "source": [
    "s=\"abcd\"\n",
    "print(len(s))\n",
    "\n",
    "n=len(s)"
   ]
  },
  {
   "cell_type": "code",
   "execution_count": 14,
   "id": "63a79b56",
   "metadata": {},
   "outputs": [
    {
     "name": "stdout",
     "output_type": "stream",
     "text": [
      "[0, 1, 2, 3]\n"
     ]
    }
   ],
   "source": [
    "n=len(s)\n",
    "\n",
    "print(list(range(n)))"
   ]
  },
  {
   "cell_type": "code",
   "execution_count": 17,
   "id": "a8bd3bb6",
   "metadata": {},
   "outputs": [
    {
     "name": "stdout",
     "output_type": "stream",
     "text": [
      "dcba\n"
     ]
    }
   ],
   "source": [
    "s=\"abcd\"\n",
    "ans=''\n",
    "ans=ans+s[3]\n",
    "ans=ans+s[2]\n",
    "ans=ans+s[1]\n",
    "ans=ans+s[0]\n",
    "print(ans)"
   ]
  },
  {
   "cell_type": "code",
   "execution_count": 20,
   "id": "3064c481",
   "metadata": {},
   "outputs": [
    {
     "name": "stdout",
     "output_type": "stream",
     "text": [
      "[4, 3, 2, 1]\n"
     ]
    }
   ],
   "source": [
    "print(list(range(4,0,-1)))"
   ]
  },
  {
   "cell_type": "code",
   "execution_count": 21,
   "id": "a62c7bf7",
   "metadata": {},
   "outputs": [
    {
     "name": "stdout",
     "output_type": "stream",
     "text": [
      "[3, 2, 1]\n"
     ]
    }
   ],
   "source": [
    "print(list(range(3,0,-1)))"
   ]
  },
  {
   "cell_type": "code",
   "execution_count": 24,
   "id": "a8901f3e",
   "metadata": {},
   "outputs": [
    {
     "name": "stdout",
     "output_type": "stream",
     "text": [
      "[3, 2, 1, 0]\n"
     ]
    }
   ],
   "source": [
    "print(list(range(3,-1,-1)))"
   ]
  },
  {
   "cell_type": "code",
   "execution_count": 25,
   "id": "b2ca4468",
   "metadata": {},
   "outputs": [
    {
     "ename": "IndexError",
     "evalue": "string index out of range",
     "output_type": "error",
     "traceback": [
      "\u001b[31m---------------------------------------------------------------------------\u001b[39m",
      "\u001b[31mIndexError\u001b[39m                                Traceback (most recent call last)",
      "\u001b[36mCell\u001b[39m\u001b[36m \u001b[39m\u001b[32mIn[25]\u001b[39m\u001b[32m, line 4\u001b[39m\n\u001b[32m      2\u001b[39m rev=\u001b[33m\"\u001b[39m\u001b[33m\"\u001b[39m\n\u001b[32m      3\u001b[39m \u001b[38;5;28;01mfor\u001b[39;00m i \u001b[38;5;129;01min\u001b[39;00m \u001b[38;5;28mrange\u001b[39m(\u001b[32m4\u001b[39m,-\u001b[32m1\u001b[39m,-\u001b[32m1\u001b[39m):\n\u001b[32m----> \u001b[39m\u001b[32m4\u001b[39m     rev=rev+\u001b[43ms\u001b[49m\u001b[43m[\u001b[49m\u001b[43mi\u001b[49m\u001b[43m]\u001b[49m\n\u001b[32m      6\u001b[39m \u001b[38;5;28mprint\u001b[39m(rev)\n",
      "\u001b[31mIndexError\u001b[39m: string index out of range"
     ]
    }
   ],
   "source": [
    "s=\"abcd\"\n",
    "rev=\"\"\n",
    "for i in range(4,-1,-1):\n",
    "    rev=rev+s[i]\n",
    "\n",
    "print(rev)"
   ]
  },
  {
   "cell_type": "code",
   "execution_count": 26,
   "id": "e848a83e",
   "metadata": {},
   "outputs": [
    {
     "name": "stdout",
     "output_type": "stream",
     "text": [
      "dcba\n"
     ]
    }
   ],
   "source": [
    "s=\"abcd\"\n",
    "rev=\"\"\n",
    "for i in range(3,-1,-1):\n",
    "    rev=rev+s[i]\n",
    "\n",
    "print(rev)"
   ]
  },
  {
   "cell_type": "code",
   "execution_count": 27,
   "id": "3f5f6287",
   "metadata": {},
   "outputs": [
    {
     "name": "stdout",
     "output_type": "stream",
     "text": [
      "dcba\n"
     ]
    }
   ],
   "source": [
    "s=\"abcdefghejekllakka\"\n",
    "rev=\"\"\n",
    "for i in range(3,-1,-1):\n",
    "    rev=rev+s[i]\n",
    "\n",
    "print(rev)"
   ]
  },
  {
   "cell_type": "code",
   "execution_count": 29,
   "id": "ed8eb0e8",
   "metadata": {},
   "outputs": [
    {
     "name": "stdout",
     "output_type": "stream",
     "text": [
      "akkallkejehgfedcba\n"
     ]
    }
   ],
   "source": [
    "s=\"abcdefghejekllakka\"\n",
    "\n",
    "n=len(s)\n",
    "\n",
    "rev=\"\"\n",
    "for i in range(n-1,-1,-1):\n",
    "    rev=rev+s[i]\n",
    "\n",
    "print(rev)"
   ]
  },
  {
   "cell_type": "code",
   "execution_count": 30,
   "id": "36344353",
   "metadata": {},
   "outputs": [
    {
     "name": "stdout",
     "output_type": "stream",
     "text": [
      "akkallkejehgfedcba\n"
     ]
    }
   ],
   "source": [
    "s=\"abcdefghejekllakka\"\n",
    "print(s[::-1])"
   ]
  },
  {
   "cell_type": "code",
   "execution_count": null,
   "id": "5d6df22a",
   "metadata": {},
   "outputs": [
    {
     "ename": "TypeError",
     "evalue": "can only concatenate str (not \"int\") to str",
     "output_type": "error",
     "traceback": [
      "\u001b[31m---------------------------------------------------------------------------\u001b[39m",
      "\u001b[31mTypeError\u001b[39m                                 Traceback (most recent call last)",
      "\u001b[36mCell\u001b[39m\u001b[36m \u001b[39m\u001b[32mIn[31]\u001b[39m\u001b[32m, line 8\u001b[39m\n\u001b[32m      5\u001b[39m rev=\u001b[33m\"\u001b[39m\u001b[33m\"\u001b[39m\n\u001b[32m      7\u001b[39m \u001b[38;5;28;01mfor\u001b[39;00m i \u001b[38;5;129;01min\u001b[39;00m \u001b[38;5;28mrange\u001b[39m(n,-\u001b[32m1\u001b[39m,-\u001b[32m1\u001b[39m):\n\u001b[32m----> \u001b[39m\u001b[32m8\u001b[39m     rev=\u001b[43mrev\u001b[49m\u001b[43m+\u001b[49m\u001b[32;43m1\u001b[39;49m\n\u001b[32m     10\u001b[39m \u001b[38;5;28mprint\u001b[39m(rev)\n",
      "\u001b[31mTypeError\u001b[39m: can only concatenate str (not \"int\") to str"
     ]
    }
   ],
   "source": [
    "# Checking the palindrome\n",
    "\n",
    "s = \"aba\"\n",
    "n=len(s)\n",
    "rev=\"\"\n",
    "\n",
    "for i in range(n,-1,-1):\n",
    "    rev=rev+1\n",
    "\n",
    "print(rev)\n"
   ]
  },
  {
   "cell_type": "code",
   "execution_count": 33,
   "id": "e27c6bd8",
   "metadata": {},
   "outputs": [
    {
     "name": "stdout",
     "output_type": "stream",
     "text": [
      "aba\n"
     ]
    }
   ],
   "source": [
    "s = \"aba\"\n",
    "n=len(s)\n",
    "rev=\"\"\n",
    "\n",
    "for i in range(n-1,-1,-1):\n",
    "    rev=rev+s[i]\n",
    "\n",
    "print(rev)"
   ]
  },
  {
   "cell_type": "code",
   "execution_count": 34,
   "id": "b4121656",
   "metadata": {},
   "outputs": [
    {
     "name": "stdout",
     "output_type": "stream",
     "text": [
      "Yes its Palindrome\n"
     ]
    }
   ],
   "source": [
    "s = \"aba\"\n",
    "n=len(s)\n",
    "rev=\"\"\n",
    "\n",
    "for i in range(n-1,-1,-1):\n",
    "    rev=rev+s[i]\n",
    "\n",
    "if s==rev:\n",
    "    print(\"Yes its Palindrome\")\n",
    "else:\n",
    "    print(\"No,Not a palindrome\")\n",
    "\n"
   ]
  },
  {
   "cell_type": "code",
   "execution_count": 35,
   "id": "c81ee294",
   "metadata": {},
   "outputs": [
    {
     "name": "stdout",
     "output_type": "stream",
     "text": [
      "No,Not a palindrome\n"
     ]
    }
   ],
   "source": [
    "s = \"abacdef\"\n",
    "n=len(s)\n",
    "rev=\"\"\n",
    "\n",
    "for i in range(n-1,-1,-1):\n",
    "    rev=rev+s[i]\n",
    "\n",
    "if s==rev:\n",
    "    print(\"Yes its Palindrome\")\n",
    "else:\n",
    "    print(\"No,Not a palindrome\")"
   ]
  },
  {
   "cell_type": "code",
   "execution_count": 36,
   "id": "7922e744",
   "metadata": {},
   "outputs": [
    {
     "ename": "NameError",
     "evalue": "name 'true' is not defined",
     "output_type": "error",
     "traceback": [
      "\u001b[31m---------------------------------------------------------------------------\u001b[39m",
      "\u001b[31mNameError\u001b[39m                                 Traceback (most recent call last)",
      "\u001b[36mCell\u001b[39m\u001b[36m \u001b[39m\u001b[32mIn[36]\u001b[39m\u001b[32m, line 5\u001b[39m\n\u001b[32m      1\u001b[39m \u001b[38;5;66;03m## Bool Type\u001b[39;00m\n\u001b[32m      2\u001b[39m \u001b[38;5;66;03m## True\u001b[39;00m\n\u001b[32m      3\u001b[39m \u001b[38;5;66;03m## False\u001b[39;00m\n\u001b[32m----> \u001b[39m\u001b[32m5\u001b[39m a = \u001b[43mtrue\u001b[49m\n",
      "\u001b[31mNameError\u001b[39m: name 'true' is not defined"
     ]
    }
   ],
   "source": [
    "## Bool Type\n",
    "## True\n",
    "## False\n",
    "\n",
    "a = true\n",
    "\n"
   ]
  },
  {
   "cell_type": "code",
   "execution_count": 37,
   "id": "0f88fe58",
   "metadata": {},
   "outputs": [],
   "source": [
    "a = \"true\"\n"
   ]
  },
  {
   "cell_type": "code",
   "execution_count": 38,
   "id": "ae3f69e3",
   "metadata": {},
   "outputs": [
    {
     "data": {
      "text/plain": [
       "str"
      ]
     },
     "execution_count": 38,
     "metadata": {},
     "output_type": "execute_result"
    }
   ],
   "source": [
    "type(a)"
   ]
  },
  {
   "cell_type": "code",
   "execution_count": 40,
   "id": "0f994d7c",
   "metadata": {},
   "outputs": [
    {
     "name": "stdout",
     "output_type": "stream",
     "text": [
      "True\n"
     ]
    }
   ],
   "source": [
    "a=True\n",
    "print(a)"
   ]
  },
  {
   "cell_type": "code",
   "execution_count": 41,
   "id": "2406c7fc",
   "metadata": {},
   "outputs": [
    {
     "data": {
      "text/plain": [
       "bool"
      ]
     },
     "execution_count": 41,
     "metadata": {},
     "output_type": "execute_result"
    }
   ],
   "source": [
    "type(a)"
   ]
  },
  {
   "cell_type": "code",
   "execution_count": 42,
   "id": "804a0a52",
   "metadata": {},
   "outputs": [
    {
     "name": "stdout",
     "output_type": "stream",
     "text": [
      "Yes its true broo....\n"
     ]
    }
   ],
   "source": [
    "a=True\n",
    "\n",
    "if a:\n",
    "    print(\"Yes its true broo....\")"
   ]
  },
  {
   "cell_type": "code",
   "execution_count": 43,
   "id": "3ac895d1",
   "metadata": {},
   "outputs": [],
   "source": [
    "a=False\n",
    "\n",
    "if a:\n",
    "    print(\"Yes its true broo....\")"
   ]
  },
  {
   "cell_type": "code",
   "execution_count": 44,
   "id": "61f8d99d",
   "metadata": {},
   "outputs": [
    {
     "ename": "SyntaxError",
     "evalue": "cannot assign to expression here. Maybe you meant '==' instead of '='? (4039685370.py, line 3)",
     "output_type": "error",
     "traceback": [
      "  \u001b[36mCell\u001b[39m\u001b[36m \u001b[39m\u001b[32mIn[44]\u001b[39m\u001b[32m, line 3\u001b[39m\n\u001b[31m    \u001b[39m\u001b[31mif 1+3=4:\u001b[39m\n       ^\n\u001b[31mSyntaxError\u001b[39m\u001b[31m:\u001b[39m cannot assign to expression here. Maybe you meant '==' instead of '='?\n"
     ]
    }
   ],
   "source": [
    "a=False\n",
    "\n",
    "if 1+3=4:\n",
    "    a=True\n",
    "\n",
    "if a:\n",
    "    print(\"Yes its true broo....\")"
   ]
  },
  {
   "cell_type": "code",
   "execution_count": 45,
   "id": "9a545d5d",
   "metadata": {},
   "outputs": [
    {
     "name": "stdout",
     "output_type": "stream",
     "text": [
      "Yes its true broo....\n"
     ]
    }
   ],
   "source": [
    "a=False\n",
    "\n",
    "if 1+3==4:\n",
    "    a=True\n",
    "\n",
    "if a:\n",
    "    print(\"Yes its true broo....\")"
   ]
  },
  {
   "cell_type": "code",
   "execution_count": 47,
   "id": "5710cd51",
   "metadata": {},
   "outputs": [
    {
     "name": "stdout",
     "output_type": "stream",
     "text": [
      "0 5\n",
      "1 6\n",
      "2 7\n"
     ]
    }
   ],
   "source": [
    "for i in range(3):\n",
    "    print(i,i+5)"
   ]
  },
  {
   "cell_type": "code",
   "execution_count": 48,
   "id": "64baec0f",
   "metadata": {},
   "outputs": [
    {
     "name": "stdout",
     "output_type": "stream",
     "text": [
      "0\n",
      "1\n",
      "2\n"
     ]
    }
   ],
   "source": [
    "n=3\n",
    "m=n*2\n",
    "for i in range(n):\n",
    "    print(i)"
   ]
  },
  {
   "cell_type": "code",
   "execution_count": 49,
   "id": "3d040873",
   "metadata": {},
   "outputs": [
    {
     "name": "stdout",
     "output_type": "stream",
     "text": [
      "0 6\n",
      "1 6\n",
      "2 6\n"
     ]
    }
   ],
   "source": [
    "n=3\n",
    "m=n*2\n",
    "for i in range(n):\n",
    "    print(i,m)"
   ]
  },
  {
   "cell_type": "code",
   "execution_count": 51,
   "id": "8f7cb8d1",
   "metadata": {},
   "outputs": [
    {
     "name": "stdout",
     "output_type": "stream",
     "text": [
      "0 5\n",
      "1 4\n",
      "2 3\n"
     ]
    }
   ],
   "source": [
    "n=3\n",
    "m=n*2\n",
    "for i in range(n):\n",
    "    print(i,m-1-i)"
   ]
  },
  {
   "cell_type": "code",
   "execution_count": 53,
   "id": "cd3bdba9",
   "metadata": {},
   "outputs": [
    {
     "name": "stdout",
     "output_type": "stream",
     "text": [
      "a a\n",
      "b b\n",
      "c c\n"
     ]
    }
   ],
   "source": [
    "s=\"abccba\"\n",
    "n=3\n",
    "m=n*2\n",
    "for i in range(n):\n",
    "    print(s[i],s[m-1-i])"
   ]
  },
  {
   "cell_type": "code",
   "execution_count": null,
   "id": "6eadc87b",
   "metadata": {},
   "outputs": [
    {
     "name": "stdout",
     "output_type": "stream",
     "text": [
      "a a\n",
      "b b\n",
      "c c\n"
     ]
    }
   ],
   "source": [
    "s=\"abccba\"\n",
    "n=3\n",
    "m=n*2\n",
    "valid = True\n",
    "for i in range(n):\n",
    "    left=s[i]\n",
    "    right=s[m-i-1]\n",
    "    print(left,right)"
   ]
  },
  {
   "cell_type": "code",
   "execution_count": 55,
   "id": "35870fae",
   "metadata": {},
   "outputs": [
    {
     "name": "stdout",
     "output_type": "stream",
     "text": [
      "Yes Its palindrome\n"
     ]
    }
   ],
   "source": [
    "s=\"abccba\"\n",
    "n=3\n",
    "m=n*2\n",
    "valid = True\n",
    "for i in range(n):\n",
    "    left=s[i]\n",
    "    right=s[m-i-1]\n",
    "    # print(left,right)\n",
    "\n",
    "if left ==right:\n",
    "    print(\"Yes Its palindrome\")\n",
    "else:\n",
    "    print(\"No Its not palindrome\")"
   ]
  },
  {
   "cell_type": "code",
   "execution_count": 56,
   "id": "bab149b5",
   "metadata": {},
   "outputs": [
    {
     "name": "stdout",
     "output_type": "stream",
     "text": [
      "Yes Its palindrome\n"
     ]
    }
   ],
   "source": [
    "s=\"aabbaa\"\n",
    "n=3\n",
    "m=n*2\n",
    "valid = True\n",
    "for i in range(n):\n",
    "    left=s[i]\n",
    "    right=s[m-i-1]\n",
    "    # print(left,right)\n",
    "\n",
    "if left ==right:\n",
    "    print(\"Yes Its palindrome\")\n",
    "else:\n",
    "    print(\"No Its not palindrome\")"
   ]
  },
  {
   "cell_type": "code",
   "execution_count": 57,
   "id": "7cdd215b",
   "metadata": {},
   "outputs": [
    {
     "ename": "IndexError",
     "evalue": "string index out of range",
     "output_type": "error",
     "traceback": [
      "\u001b[31m---------------------------------------------------------------------------\u001b[39m",
      "\u001b[31mIndexError\u001b[39m                                Traceback (most recent call last)",
      "\u001b[36mCell\u001b[39m\u001b[36m \u001b[39m\u001b[32mIn[57]\u001b[39m\u001b[32m, line 7\u001b[39m\n\u001b[32m      5\u001b[39m \u001b[38;5;28;01mfor\u001b[39;00m i \u001b[38;5;129;01min\u001b[39;00m \u001b[38;5;28mrange\u001b[39m(n):\n\u001b[32m      6\u001b[39m     left=s[i]\n\u001b[32m----> \u001b[39m\u001b[32m7\u001b[39m     right=\u001b[43ms\u001b[49m\u001b[43m[\u001b[49m\u001b[43mm\u001b[49m\u001b[43m-\u001b[49m\u001b[43mi\u001b[49m\u001b[43m-\u001b[49m\u001b[32;43m1\u001b[39;49m\u001b[43m]\u001b[49m\n\u001b[32m      8\u001b[39m     \u001b[38;5;66;03m# print(left,right)\u001b[39;00m\n\u001b[32m     10\u001b[39m \u001b[38;5;28;01mif\u001b[39;00m left ==right:\n",
      "\u001b[31mIndexError\u001b[39m: string index out of range"
     ]
    }
   ],
   "source": [
    "s=\"aabaa\"\n",
    "n=3\n",
    "m=n*2\n",
    "valid = True\n",
    "for i in range(n):\n",
    "    left=s[i]\n",
    "    right=s[m-i-1]\n",
    "    # print(left,right)\n",
    "\n",
    "if left ==right:\n",
    "    print(\"Yes Its palindrome\")\n",
    "else:\n",
    "    print(\"No Its not palindrome\")"
   ]
  },
  {
   "cell_type": "code",
   "execution_count": 59,
   "id": "bed9b9fc",
   "metadata": {},
   "outputs": [
    {
     "ename": "IndexError",
     "evalue": "string index out of range",
     "output_type": "error",
     "traceback": [
      "\u001b[31m---------------------------------------------------------------------------\u001b[39m",
      "\u001b[31mIndexError\u001b[39m                                Traceback (most recent call last)",
      "\u001b[36mCell\u001b[39m\u001b[36m \u001b[39m\u001b[32mIn[59]\u001b[39m\u001b[32m, line 7\u001b[39m\n\u001b[32m      5\u001b[39m \u001b[38;5;28;01mfor\u001b[39;00m i \u001b[38;5;129;01min\u001b[39;00m \u001b[38;5;28mrange\u001b[39m(n-\u001b[32m1\u001b[39m):\n\u001b[32m      6\u001b[39m     left=s[i]\n\u001b[32m----> \u001b[39m\u001b[32m7\u001b[39m     right=\u001b[43ms\u001b[49m\u001b[43m[\u001b[49m\u001b[43mm\u001b[49m\u001b[43m-\u001b[49m\u001b[43mi\u001b[49m\u001b[43m-\u001b[49m\u001b[32;43m1\u001b[39;49m\u001b[43m]\u001b[49m\n\u001b[32m      8\u001b[39m     \u001b[38;5;66;03m# print(left,right)\u001b[39;00m\n\u001b[32m     10\u001b[39m \u001b[38;5;28;01mif\u001b[39;00m left ==right:\n",
      "\u001b[31mIndexError\u001b[39m: string index out of range"
     ]
    }
   ],
   "source": [
    "s=\"aabaa\"\n",
    "n=len(s)\n",
    "m=n*2\n",
    "valid = True\n",
    "for i in range(n-1):\n",
    "    left=s[i]\n",
    "    right=s[m-i-1]\n",
    "    # print(left,right)\n",
    "\n",
    "if left ==right:\n",
    "    print(\"Yes Its palindrome\")\n",
    "else:\n",
    "    print(\"No Its not palindrome\")"
   ]
  },
  {
   "cell_type": "code",
   "execution_count": 61,
   "id": "1e4d2803",
   "metadata": {},
   "outputs": [
    {
     "name": "stdout",
     "output_type": "stream",
     "text": [
      "No Its not palindrome\n"
     ]
    }
   ],
   "source": [
    "s=\"aabaa\"\n",
    "n=len(s)//2\n",
    "m=n*2\n",
    "valid = True\n",
    "for i in range(n):\n",
    "    left=s[i]\n",
    "    right=s[m-i-1]\n",
    "    # print(left,right)\n",
    "\n",
    "if left ==right:\n",
    "    print(\"Yes Its palindrome\")\n",
    "else:\n",
    "    print(\"No Its not palindrome\")"
   ]
  },
  {
   "cell_type": "code",
   "execution_count": 62,
   "id": "650bbc8a",
   "metadata": {},
   "outputs": [
    {
     "name": "stdout",
     "output_type": "stream",
     "text": [
      "No Its not palindrome\n"
     ]
    }
   ],
   "source": [
    "s=\"aabaac\"\n",
    "n=len(s)//2\n",
    "m=n*2\n",
    "valid = True\n",
    "for i in range(n):\n",
    "    left=s[i]\n",
    "    right=s[m-i-1]\n",
    "    # print(left,right)\n",
    "\n",
    "if left ==right:\n",
    "    print(\"Yes Its palindrome\")\n",
    "else:\n",
    "    print(\"No Its not palindrome\")"
   ]
  },
  {
   "cell_type": "code",
   "execution_count": 63,
   "id": "7b50daa0",
   "metadata": {},
   "outputs": [
    {
     "name": "stdout",
     "output_type": "stream",
     "text": [
      "a c\n",
      "a a\n",
      "b a\n",
      "No Its not palindrome\n"
     ]
    }
   ],
   "source": [
    "s=\"aabaac\"\n",
    "n=len(s)//2\n",
    "m=n*2\n",
    "valid = True\n",
    "for i in range(n):\n",
    "    left=s[i]\n",
    "    right=s[m-i-1]\n",
    "    print(left,right)\n",
    "\n",
    "if left ==right:\n",
    "    print(\"Yes Its palindrome\")\n",
    "else:\n",
    "    print(\"No Its not palindrome\")"
   ]
  },
  {
   "cell_type": "code",
   "execution_count": 67,
   "id": "09c15d7f",
   "metadata": {},
   "outputs": [
    {
     "name": "stdout",
     "output_type": "stream",
     "text": [
      "a a\n",
      "No Its not palindrome\n"
     ]
    }
   ],
   "source": [
    "s=\"aabaea\"\n",
    "n=len(s)//2\n",
    "m=n*2\n",
    "valid = True\n",
    "for i in range(n):\n",
    "    left=s[i]\n",
    "    right=s[m-i-1]\n",
    "    if left != right:\n",
    "        break\n",
    "    print(left,right)\n",
    "\n",
    "if left ==right:\n",
    "    print(\"Yes Its palindrome\")\n",
    "else:\n",
    "    print(\"No Its not palindrome\")"
   ]
  },
  {
   "cell_type": "code",
   "execution_count": null,
   "id": "39e99d49",
   "metadata": {},
   "outputs": [],
   "source": []
  }
 ],
 "metadata": {
  "kernelspec": {
   "display_name": "pythonclass-py-3.12",
   "language": "python",
   "name": "python3"
  },
  "language_info": {
   "codemirror_mode": {
    "name": "ipython",
    "version": 3
   },
   "file_extension": ".py",
   "mimetype": "text/x-python",
   "name": "python",
   "nbconvert_exporter": "python",
   "pygments_lexer": "ipython3",
   "version": "3.12.10"
  }
 },
 "nbformat": 4,
 "nbformat_minor": 5
}
