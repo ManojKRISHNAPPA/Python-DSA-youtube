{
 "cells": [
  {
   "cell_type": "markdown",
   "id": "e35ea496",
   "metadata": {},
   "source": [
    "- Print \n",
    "- Variables\n",
    "- Indedations\n",
    "- If Loop"
   ]
  },
  {
   "cell_type": "code",
   "execution_count": 1,
   "id": "544795e4",
   "metadata": {},
   "outputs": [
    {
     "name": "stdout",
     "output_type": "stream",
     "text": [
      "Hello ITKannadigareee\n"
     ]
    }
   ],
   "source": [
    "print(\"Hello ITKannadigareee\")"
   ]
  },
  {
   "cell_type": "code",
   "execution_count": 2,
   "id": "e744b464",
   "metadata": {},
   "outputs": [
    {
     "name": "stdout",
     "output_type": "stream",
     "text": [
      "Kichha\n"
     ]
    }
   ],
   "source": [
    "## Varibles\n",
    "\n",
    "print(\"Kichha\")"
   ]
  },
  {
   "cell_type": "code",
   "execution_count": 4,
   "id": "96821607",
   "metadata": {},
   "outputs": [
    {
     "name": "stdout",
     "output_type": "stream",
     "text": [
      "Puneeth RajKumar\n"
     ]
    }
   ],
   "source": [
    "PowerStar=\"Puneeth RajKumar\"\n",
    "\n",
    "print(PowerStar)"
   ]
  },
  {
   "cell_type": "code",
   "execution_count": 5,
   "id": "04020aeb",
   "metadata": {},
   "outputs": [
    {
     "data": {
      "text/plain": [
       "str"
      ]
     },
     "execution_count": 5,
     "metadata": {},
     "output_type": "execute_result"
    }
   ],
   "source": [
    "type(PowerStar)\n"
   ]
  },
  {
   "cell_type": "code",
   "execution_count": 6,
   "id": "f46e8f87",
   "metadata": {},
   "outputs": [
    {
     "ename": "NameError",
     "evalue": "name 'Kichha' is not defined",
     "output_type": "error",
     "traceback": [
      "\u001b[31m---------------------------------------------------------------------------\u001b[39m",
      "\u001b[31mNameError\u001b[39m                                 Traceback (most recent call last)",
      "\u001b[36mCell\u001b[39m\u001b[36m \u001b[39m\u001b[32mIn[6]\u001b[39m\u001b[32m, line 1\u001b[39m\n\u001b[32m----> \u001b[39m\u001b[32m1\u001b[39m \u001b[38;5;28mprint\u001b[39m(\u001b[43mKichha\u001b[49m)\n",
      "\u001b[31mNameError\u001b[39m: name 'Kichha' is not defined"
     ]
    }
   ],
   "source": [
    "print(Kichha)"
   ]
  },
  {
   "cell_type": "code",
   "execution_count": null,
   "id": "d8de9e73",
   "metadata": {},
   "outputs": [
    {
     "ename": "NameError",
     "evalue": "name 'sudeep' is not defined",
     "output_type": "error",
     "traceback": [
      "\u001b[31m---------------------------------------------------------------------------\u001b[39m",
      "\u001b[31mNameError\u001b[39m                                 Traceback (most recent call last)",
      "\u001b[36mCell\u001b[39m\u001b[36m \u001b[39m\u001b[32mIn[7]\u001b[39m\u001b[32m, line 1\u001b[39m\n\u001b[32m----> \u001b[39m\u001b[32m1\u001b[39m Kichha=\u001b[43msudeep\u001b[49m\n\u001b[32m      2\u001b[39m \u001b[38;5;28mprint\u001b[39m(Kichha)\n",
      "\u001b[31mNameError\u001b[39m: name 'sudeep' is not defined"
     ]
    }
   ],
   "source": [
    "Kichha=\"sudeep\"\n",
    "print(Kichha)"
   ]
  },
  {
   "cell_type": "code",
   "execution_count": 8,
   "id": "4109a84f",
   "metadata": {},
   "outputs": [
    {
     "name": "stdout",
     "output_type": "stream",
     "text": [
      "sudeep\n"
     ]
    }
   ],
   "source": [
    "Kichha=\"sudeep\"\n",
    "print(Kichha)"
   ]
  },
  {
   "cell_type": "code",
   "execution_count": null,
   "id": "d38edfee",
   "metadata": {},
   "outputs": [
    {
     "ename": "NameError",
     "evalue": "name 'Print' is not defined",
     "output_type": "error",
     "traceback": [
      "\u001b[31m---------------------------------------------------------------------------\u001b[39m",
      "\u001b[31mNameError\u001b[39m                                 Traceback (most recent call last)",
      "\u001b[36mCell\u001b[39m\u001b[36m \u001b[39m\u001b[32mIn[9]\u001b[39m\u001b[32m, line 2\u001b[39m\n\u001b[32m      1\u001b[39m Rocking_star=\u001b[32m1\u001b[39m\n\u001b[32m----> \u001b[39m\u001b[32m2\u001b[39m \u001b[43mPrint\u001b[49m(Rocking_star)\n",
      "\u001b[31mNameError\u001b[39m: name 'Print' is not defined"
     ]
    }
   ],
   "source": [
    "Rocking_star=1\n",
    "Print(Rocking_star)"
   ]
  },
  {
   "cell_type": "code",
   "execution_count": 10,
   "id": "ab0619d6",
   "metadata": {},
   "outputs": [
    {
     "name": "stdout",
     "output_type": "stream",
     "text": [
      "1\n"
     ]
    }
   ],
   "source": [
    "Rocking_star=1\n",
    "print(Rocking_star)"
   ]
  },
  {
   "cell_type": "code",
   "execution_count": 11,
   "id": "cd632b78",
   "metadata": {},
   "outputs": [
    {
     "name": "stdout",
     "output_type": "stream",
     "text": [
      "2\n"
     ]
    }
   ],
   "source": [
    "print(Rocking_star+1)"
   ]
  },
  {
   "cell_type": "code",
   "execution_count": 12,
   "id": "a1af2f3f",
   "metadata": {},
   "outputs": [
    {
     "ename": "TypeError",
     "evalue": "can only concatenate str (not \"int\") to str",
     "output_type": "error",
     "traceback": [
      "\u001b[31m---------------------------------------------------------------------------\u001b[39m",
      "\u001b[31mTypeError\u001b[39m                                 Traceback (most recent call last)",
      "\u001b[36mCell\u001b[39m\u001b[36m \u001b[39m\u001b[32mIn[12]\u001b[39m\u001b[32m, line 2\u001b[39m\n\u001b[32m      1\u001b[39m Rocking_star=\u001b[33m'\u001b[39m\u001b[33m1\u001b[39m\u001b[33m'\u001b[39m\n\u001b[32m----> \u001b[39m\u001b[32m2\u001b[39m \u001b[38;5;28mprint\u001b[39m(\u001b[43mRocking_star\u001b[49m\u001b[43m+\u001b[49m\u001b[32;43m1\u001b[39;49m)\n",
      "\u001b[31mTypeError\u001b[39m: can only concatenate str (not \"int\") to str"
     ]
    }
   ],
   "source": [
    "Rocking_star='1'\n",
    "print(Rocking_star+1)"
   ]
  },
  {
   "cell_type": "code",
   "execution_count": 13,
   "id": "45275786",
   "metadata": {},
   "outputs": [
    {
     "name": "stdout",
     "output_type": "stream",
     "text": [
      "11\n"
     ]
    }
   ],
   "source": [
    "Rocking_star='1'\n",
    "print(Rocking_star+'1')"
   ]
  },
  {
   "cell_type": "code",
   "execution_count": 14,
   "id": "86d9e137",
   "metadata": {},
   "outputs": [
    {
     "name": "stdout",
     "output_type": "stream",
     "text": [
      "13\n"
     ]
    }
   ],
   "source": [
    "Rocking_star='1'\n",
    "print(Rocking_star+'3')"
   ]
  },
  {
   "cell_type": "code",
   "execution_count": 15,
   "id": "070ea2f6",
   "metadata": {},
   "outputs": [
    {
     "data": {
      "text/plain": [
       "str"
      ]
     },
     "execution_count": 15,
     "metadata": {},
     "output_type": "execute_result"
    }
   ],
   "source": [
    "type(Rocking_star)"
   ]
  },
  {
   "cell_type": "code",
   "execution_count": 16,
   "id": "33331a18",
   "metadata": {},
   "outputs": [
    {
     "name": "stdout",
     "output_type": "stream",
     "text": [
      "8\n"
     ]
    }
   ],
   "source": [
    "Rocking_star=1\n",
    "print(Rocking_star+7)\n"
   ]
  },
  {
   "cell_type": "code",
   "execution_count": 17,
   "id": "72c9d456",
   "metadata": {},
   "outputs": [
    {
     "data": {
      "text/plain": [
       "int"
      ]
     },
     "execution_count": 17,
     "metadata": {},
     "output_type": "execute_result"
    }
   ],
   "source": [
    "type(Rocking_star)"
   ]
  },
  {
   "cell_type": "code",
   "execution_count": 18,
   "id": "28f9f6e0",
   "metadata": {},
   "outputs": [
    {
     "name": "stdout",
     "output_type": "stream",
     "text": [
      "ManojManojManojManojManojManojManojManojManojManoj\n"
     ]
    }
   ],
   "source": [
    "a=10\n",
    "print(\"Manoj\"*a)"
   ]
  },
  {
   "cell_type": "code",
   "execution_count": 19,
   "id": "63415d35",
   "metadata": {},
   "outputs": [
    {
     "data": {
      "text/plain": [
       "int"
      ]
     },
     "execution_count": 19,
     "metadata": {},
     "output_type": "execute_result"
    }
   ],
   "source": [
    "type(a)"
   ]
  },
  {
   "cell_type": "code",
   "execution_count": 20,
   "id": "c31484f5",
   "metadata": {},
   "outputs": [
    {
     "name": "stdout",
     "output_type": "stream",
     "text": [
      "ManojManojManoj\n"
     ]
    }
   ],
   "source": [
    "a=3\n",
    "print(\"Manoj\"*a)"
   ]
  },
  {
   "cell_type": "code",
   "execution_count": 21,
   "id": "3000cb14",
   "metadata": {},
   "outputs": [
    {
     "name": "stdout",
     "output_type": "stream",
     "text": [
      "This is right..\n"
     ]
    }
   ],
   "source": [
    "if 1+2 == 3:\n",
    "    print(\"This is right..\")\n"
   ]
  },
  {
   "cell_type": "code",
   "execution_count": 22,
   "id": "3f41cca9",
   "metadata": {},
   "outputs": [],
   "source": [
    "if 1+2 == 4:\n",
    "    print(\"This is right..\")"
   ]
  },
  {
   "cell_type": "code",
   "execution_count": 23,
   "id": "ad478135",
   "metadata": {},
   "outputs": [
    {
     "name": "stdout",
     "output_type": "stream",
     "text": [
      "This is not right..\n"
     ]
    }
   ],
   "source": [
    "if 1+2 == 4:\n",
    "    print(\"This is right..\")\n",
    "else:\n",
    "    print(\"This is not right..\")"
   ]
  },
  {
   "cell_type": "code",
   "execution_count": 24,
   "id": "3b114838",
   "metadata": {},
   "outputs": [
    {
     "ename": "IndentationError",
     "evalue": "expected an indented block after 'if' statement on line 1 (2043237813.py, line 2)",
     "output_type": "error",
     "traceback": [
      "  \u001b[36mCell\u001b[39m\u001b[36m \u001b[39m\u001b[32mIn[24]\u001b[39m\u001b[32m, line 2\u001b[39m\n\u001b[31m    \u001b[39m\u001b[31mprint(\"this is wrong..\")\u001b[39m\n    ^\n\u001b[31mIndentationError\u001b[39m\u001b[31m:\u001b[39m expected an indented block after 'if' statement on line 1\n"
     ]
    }
   ],
   "source": [
    "if 1+2==3:\n",
    "print(\"this is wrong..\")"
   ]
  },
  {
   "cell_type": "code",
   "execution_count": 25,
   "id": "86fd92fa",
   "metadata": {},
   "outputs": [
    {
     "name": "stdout",
     "output_type": "stream",
     "text": [
      "this is wrong..\n"
     ]
    }
   ],
   "source": [
    "if 1+2==3:\n",
    " print(\"this is wrong..\")"
   ]
  },
  {
   "cell_type": "code",
   "execution_count": 26,
   "id": "d5e59235",
   "metadata": {},
   "outputs": [
    {
     "name": "stdout",
     "output_type": "stream",
     "text": [
      "this is wrong..\n"
     ]
    }
   ],
   "source": [
    "if 1+2==3:\n",
    "    print(\"this is wrong..\")"
   ]
  },
  {
   "cell_type": "code",
   "execution_count": 27,
   "id": "d661d3da",
   "metadata": {},
   "outputs": [
    {
     "name": "stdout",
     "output_type": "stream",
     "text": [
      "this is wrong..\n",
      "this is right\n"
     ]
    }
   ],
   "source": [
    "if 1+2==3:\n",
    "    print(\"this is wrong..\")\n",
    "print(\"this is right\")"
   ]
  },
  {
   "cell_type": "code",
   "execution_count": null,
   "id": "f05918d6",
   "metadata": {},
   "outputs": [
    {
     "name": "stdout",
     "output_type": "stream",
     "text": [
      "this is right\n"
     ]
    }
   ],
   "source": [
    "if 1+2==4:\n",
    "    print(\"this is wrong..\")\n",
    "print(\"this is right\")"
   ]
  },
  {
   "cell_type": "code",
   "execution_count": 30,
   "id": "99f4e8a9",
   "metadata": {},
   "outputs": [],
   "source": [
    "if 1+2==4:\n",
    "    print(\"this is wrong..\")\n",
    "    print(\"this is right\")"
   ]
  },
  {
   "cell_type": "code",
   "execution_count": 31,
   "id": "bb28f4d4",
   "metadata": {},
   "outputs": [
    {
     "ename": "SyntaxError",
     "evalue": "invalid syntax (2420919818.py, line 4)",
     "output_type": "error",
     "traceback": [
      "  \u001b[36mCell\u001b[39m\u001b[36m \u001b[39m\u001b[32mIn[31]\u001b[39m\u001b[32m, line 4\u001b[39m\n\u001b[31m    \u001b[39m\u001b[31melse:\u001b[39m\n    ^\n\u001b[31mSyntaxError\u001b[39m\u001b[31m:\u001b[39m invalid syntax\n"
     ]
    }
   ],
   "source": [
    "if 1+2==4:\n",
    "    print(\"this is wrong..\")\n",
    "print(\"this is right\")\n",
    "else:\n",
    "    print(\"this is test\")"
   ]
  },
  {
   "cell_type": "code",
   "execution_count": 33,
   "id": "1a24ea41",
   "metadata": {},
   "outputs": [
    {
     "name": "stdout",
     "output_type": "stream",
     "text": [
      "this is wrong\n",
      "this is test\n"
     ]
    }
   ],
   "source": [
    "if 1+2==4:\n",
    "    print(\"this is right..\")\n",
    "else:\n",
    "    print(\"this is wrong\")\n",
    "\n",
    "print(\"this is test\")"
   ]
  },
  {
   "cell_type": "code",
   "execution_count": 34,
   "id": "9049a7fe",
   "metadata": {},
   "outputs": [
    {
     "name": "stdout",
     "output_type": "stream",
     "text": [
      "this is wrong\n",
      "this is test\n",
      "this is test indendation\n"
     ]
    }
   ],
   "source": [
    "if 1+2==4:\n",
    "    print(\"this is right..\")\n",
    "else:\n",
    "    print(\"this is wrong\")\n",
    "\n",
    "print(\"this is test\")\n",
    "\n",
    "print(\"this is test indendation\")"
   ]
  },
  {
   "cell_type": "code",
   "execution_count": null,
   "id": "31346099",
   "metadata": {},
   "outputs": [
    {
     "ename": "IndentationError",
     "evalue": "unexpected indent (1105020910.py, line 8)",
     "output_type": "error",
     "traceback": [
      "  \u001b[36mCell\u001b[39m\u001b[36m \u001b[39m\u001b[32mIn[35]\u001b[39m\u001b[32m, line 8\u001b[39m\n\u001b[31m    \u001b[39m\u001b[31mprint(\"this is test indendation\")\u001b[39m\n    ^\n\u001b[31mIndentationError\u001b[39m\u001b[31m:\u001b[39m unexpected indent\n"
     ]
    }
   ],
   "source": [
    "if 1+2==4:\n",
    "    print(\"this is right..\")\n",
    "else:\n",
    "    print(\"this is wrong\")\n",
    "\n",
    "print(\"this is test\")\n",
    "\n",
    "    print(\"this is test indendation\")"
   ]
  },
  {
   "cell_type": "code",
   "execution_count": 36,
   "id": "c3f03c51",
   "metadata": {},
   "outputs": [
    {
     "name": "stdout",
     "output_type": "stream",
     "text": [
      "this is wrong\n",
      "this is test\n",
      "this is test indendation\n"
     ]
    }
   ],
   "source": [
    "if 1+2==4:\n",
    "    print(\"this is right..\")\n",
    "else:\n",
    "    print(\"this is wrong\")\n",
    "\n",
    "print(\"this is test\")\n",
    "\n",
    "print(\"this is test indendation\")"
   ]
  },
  {
   "cell_type": "code",
   "execution_count": 38,
   "id": "0bcb952b",
   "metadata": {},
   "outputs": [
    {
     "name": "stdout",
     "output_type": "stream",
     "text": [
      "Am not going on today...\n"
     ]
    }
   ],
   "source": [
    "Movie=\"English\"\n",
    "\n",
    "if Movie == 'English':\n",
    "    print(\"Am not going on today...\")\n",
    "else:\n",
    "    print(\"I will tomo\")"
   ]
  },
  {
   "cell_type": "code",
   "execution_count": 39,
   "id": "33abfb75",
   "metadata": {},
   "outputs": [
    {
     "name": "stdout",
     "output_type": "stream",
     "text": [
      "I will go today\n"
     ]
    }
   ],
   "source": [
    "Movie=\"Kannada\"\n",
    "\n",
    "if Movie == 'English':\n",
    "    print(\"Am not going on today...\")\n",
    "else:\n",
    "    print(\"I will go today\")"
   ]
  },
  {
   "cell_type": "code",
   "execution_count": 41,
   "id": "6066070b",
   "metadata": {},
   "outputs": [
    {
     "name": "stdout",
     "output_type": "stream",
     "text": [
      "Go Left side...\n"
     ]
    }
   ],
   "source": [
    "gender=\"girl\"\n",
    "\n",
    "if gender==\"boy\":\n",
    "    print(\"Go right side...\")\n",
    "else:\n",
    "    print(\"Go Left side...\")\n"
   ]
  },
  {
   "cell_type": "code",
   "execution_count": null,
   "id": "ba5bfeed",
   "metadata": {},
   "outputs": [],
   "source": []
  }
 ],
 "metadata": {
  "kernelspec": {
   "display_name": "pythonclass-py-3.12",
   "language": "python",
   "name": "python3"
  },
  "language_info": {
   "codemirror_mode": {
    "name": "ipython",
    "version": 3
   },
   "file_extension": ".py",
   "mimetype": "text/x-python",
   "name": "python",
   "nbconvert_exporter": "python",
   "pygments_lexer": "ipython3",
   "version": "3.12.10"
  }
 },
 "nbformat": 4,
 "nbformat_minor": 5
}
