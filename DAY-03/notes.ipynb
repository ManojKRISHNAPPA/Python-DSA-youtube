{
 "cells": [
  {
   "cell_type": "code",
   "execution_count": 2,
   "id": "0f98d1da",
   "metadata": {},
   "outputs": [
    {
     "name": "stdout",
     "output_type": "stream",
     "text": [
      "10\n",
      "20\n",
      "5\n",
      "10\n",
      "5\n",
      "5\n",
      "10\n"
     ]
    }
   ],
   "source": [
    "box1=10\n",
    "box2=20\n",
    "box3=5\n",
    "box4=10\n",
    "box5=5\n",
    "box6=5\n",
    "box7=10\n",
    "\n",
    "print(box1)\n",
    "print(box2)\n",
    "print(box3)\n",
    "print(box4)\n",
    "print(box5)\n",
    "print(box6)\n",
    "print(box7)\n"
   ]
  },
  {
   "cell_type": "code",
   "execution_count": 3,
   "id": "c1853b96",
   "metadata": {},
   "outputs": [
    {
     "name": "stdout",
     "output_type": "stream",
     "text": [
      "15\n"
     ]
    }
   ],
   "source": [
    "print(box3+box5+box6)"
   ]
  },
  {
   "cell_type": "code",
   "execution_count": 4,
   "id": "d330f526",
   "metadata": {},
   "outputs": [
    {
     "name": "stdout",
     "output_type": "stream",
     "text": [
      "[10, 20, 5, 10, 5, 5, 10]\n"
     ]
    }
   ],
   "source": [
    "## ARRAY or LIST\n",
    "\n",
    "BOXS=[10,20,5,10,5,5,10]\n",
    "\n",
    "print(BOXS)"
   ]
  },
  {
   "cell_type": "code",
   "execution_count": 5,
   "id": "5a9740d1",
   "metadata": {},
   "outputs": [
    {
     "name": "stdout",
     "output_type": "stream",
     "text": [
      "10\n"
     ]
    }
   ],
   "source": [
    "print(BOXS[0])"
   ]
  },
  {
   "cell_type": "code",
   "execution_count": 6,
   "id": "03b5d61b",
   "metadata": {},
   "outputs": [
    {
     "name": "stdout",
     "output_type": "stream",
     "text": [
      "20\n"
     ]
    }
   ],
   "source": [
    "print(BOXS[1])"
   ]
  },
  {
   "cell_type": "code",
   "execution_count": 7,
   "id": "bbfa3953",
   "metadata": {},
   "outputs": [
    {
     "name": "stdout",
     "output_type": "stream",
     "text": [
      "5\n"
     ]
    }
   ],
   "source": [
    "print(BOXS[5])"
   ]
  },
  {
   "cell_type": "code",
   "execution_count": 8,
   "id": "577712da",
   "metadata": {},
   "outputs": [
    {
     "name": "stdout",
     "output_type": "stream",
     "text": [
      "10\n",
      "20\n",
      "5\n",
      "10\n",
      "5\n"
     ]
    }
   ],
   "source": [
    "for i in range(5):\n",
    "    print(BOXS[i])"
   ]
  },
  {
   "cell_type": "code",
   "execution_count": 9,
   "id": "dce1b9da",
   "metadata": {},
   "outputs": [
    {
     "name": "stdout",
     "output_type": "stream",
     "text": [
      "7\n"
     ]
    }
   ],
   "source": [
    "BOXS=[10,20,5,10,5,5,10]\n",
    "\n",
    "print(len(BOXS))"
   ]
  },
  {
   "cell_type": "code",
   "execution_count": 10,
   "id": "86ef9513",
   "metadata": {},
   "outputs": [
    {
     "name": "stdout",
     "output_type": "stream",
     "text": [
      "10\n",
      "20\n",
      "5\n",
      "10\n",
      "5\n",
      "5\n",
      "10\n"
     ]
    }
   ],
   "source": [
    "for i in range(7):\n",
    "    print(BOXS[i])"
   ]
  },
  {
   "cell_type": "code",
   "execution_count": 11,
   "id": "a9cdff83",
   "metadata": {},
   "outputs": [
    {
     "name": "stdout",
     "output_type": "stream",
     "text": [
      "range(0, 7)\n"
     ]
    }
   ],
   "source": [
    "print(range(7))"
   ]
  },
  {
   "cell_type": "code",
   "execution_count": 12,
   "id": "fdc45ac5",
   "metadata": {},
   "outputs": [
    {
     "name": "stdout",
     "output_type": "stream",
     "text": [
      "list[range(0, 7)]\n"
     ]
    }
   ],
   "source": [
    "print(list[range(7)])"
   ]
  },
  {
   "cell_type": "code",
   "execution_count": null,
   "id": "cc5eb810",
   "metadata": {},
   "outputs": [
    {
     "name": "stdout",
     "output_type": "stream",
     "text": [
      "[0, 1, 2, 3, 4, 5, 6]\n"
     ]
    }
   ],
   "source": [
    "# Single value by default it will be 0(start), end-1\n",
    "# 0, 1, 2, 3, 4, 5, 6\n",
    "\n",
    "print(list(range(7)))\n",
    "print(list(range(7)))"
   ]
  },
  {
   "cell_type": "code",
   "execution_count": 14,
   "id": "460881d0",
   "metadata": {},
   "outputs": [
    {
     "name": "stdout",
     "output_type": "stream",
     "text": [
      "[2, 3, 4, 5, 6]\n"
     ]
    }
   ],
   "source": [
    "# Two values \n",
    "# 2, 3, 4, 5, 6\n",
    "print(list(range(2,7)))\n"
   ]
  },
  {
   "cell_type": "code",
   "execution_count": 15,
   "id": "f9965980",
   "metadata": {},
   "outputs": [
    {
     "name": "stdout",
     "output_type": "stream",
     "text": [
      "[2, 4, 6]\n"
     ]
    }
   ],
   "source": [
    "#Step value \n",
    "print(list(range(2,7,2)))"
   ]
  },
  {
   "cell_type": "code",
   "execution_count": null,
   "id": "6ffcdd15",
   "metadata": {},
   "outputs": [],
   "source": [
    "print(list(range(2,7,3)))"
   ]
  },
  {
   "cell_type": "code",
   "execution_count": 19,
   "id": "b7d57e05",
   "metadata": {},
   "outputs": [
    {
     "name": "stdout",
     "output_type": "stream",
     "text": [
      "7\n"
     ]
    }
   ],
   "source": [
    "BOXS=[10,20,5,10,5,5,10]\n",
    "print(len(BOXS))"
   ]
  },
  {
   "cell_type": "code",
   "execution_count": 20,
   "id": "69d28449",
   "metadata": {},
   "outputs": [
    {
     "name": "stdout",
     "output_type": "stream",
     "text": [
      "10\n",
      "20\n",
      "5\n",
      "10\n",
      "5\n",
      "5\n",
      "10\n"
     ]
    }
   ],
   "source": [
    "for i in range(7):\n",
    "    print(BOXS[i])"
   ]
  },
  {
   "cell_type": "code",
   "execution_count": 21,
   "id": "b1b8da7d",
   "metadata": {},
   "outputs": [
    {
     "name": "stdout",
     "output_type": "stream",
     "text": [
      "10\n",
      "20\n",
      "5\n",
      "10\n",
      "5\n",
      "5\n",
      "10\n"
     ]
    }
   ],
   "source": [
    "ans=0\n",
    "for i in range(7):\n",
    "    print(BOXS[i])\n",
    "    ans = ans +1\n",
    "\n"
   ]
  },
  {
   "cell_type": "code",
   "execution_count": 22,
   "id": "bb68860d",
   "metadata": {},
   "outputs": [],
   "source": [
    "ans=0\n",
    "for i in range(7):\n",
    "    # print(BOXS[i])\n",
    "    ans = ans +1"
   ]
  },
  {
   "cell_type": "code",
   "execution_count": 23,
   "id": "1686ec08",
   "metadata": {},
   "outputs": [
    {
     "name": "stdout",
     "output_type": "stream",
     "text": [
      "7\n"
     ]
    }
   ],
   "source": [
    "ans=0\n",
    "for i in range(7):\n",
    "    # print(BOXS[i])\n",
    "    ans = ans +1\n",
    "\n",
    "print(ans)"
   ]
  },
  {
   "cell_type": "code",
   "execution_count": 28,
   "id": "7ac91870",
   "metadata": {},
   "outputs": [
    {
     "ename": "SyntaxError",
     "evalue": "expected ':' (3823707903.py, line 4)",
     "output_type": "error",
     "traceback": [
      "  \u001b[36mCell\u001b[39m\u001b[36m \u001b[39m\u001b[32mIn[28]\u001b[39m\u001b[32m, line 4\u001b[39m\n\u001b[31m    \u001b[39m\u001b[31mif box[i] == 5\u001b[39m\n                  ^\n\u001b[31mSyntaxError\u001b[39m\u001b[31m:\u001b[39m expected ':'\n"
     ]
    }
   ],
   "source": [
    "BOXS=[10,20,5,10,5,5,10]\n",
    "ans=0\n",
    "for i in range(7):\n",
    "    if box[i] == 5\n",
    "    # print(BOXS[i])\n",
    "    ans = ans +1\n",
    "\n",
    "print(ans)"
   ]
  },
  {
   "cell_type": "code",
   "execution_count": 29,
   "id": "f37a4358",
   "metadata": {},
   "outputs": [
    {
     "ename": "IndentationError",
     "evalue": "expected an indented block after 'if' statement on line 4 (1982939814.py, line 6)",
     "output_type": "error",
     "traceback": [
      "  \u001b[36mCell\u001b[39m\u001b[36m \u001b[39m\u001b[32mIn[29]\u001b[39m\u001b[32m, line 6\u001b[39m\n\u001b[31m    \u001b[39m\u001b[31mans = ans +1\u001b[39m\n    ^\n\u001b[31mIndentationError\u001b[39m\u001b[31m:\u001b[39m expected an indented block after 'if' statement on line 4\n"
     ]
    }
   ],
   "source": [
    "BOXS=[10,20,5,10,5,5,10]\n",
    "ans=0\n",
    "for i in range(7):\n",
    "    if box[i] == 5:\n",
    "    # print(BOXS[i])\n",
    "    ans = ans +1\n",
    "\n",
    "print(ans)"
   ]
  },
  {
   "cell_type": "code",
   "execution_count": 30,
   "id": "ebcf4d31",
   "metadata": {},
   "outputs": [
    {
     "name": "stdout",
     "output_type": "stream",
     "text": [
      "3\n"
     ]
    }
   ],
   "source": [
    "BOXS=[10,20,5,10,5,5,10]\n",
    "ans=0\n",
    "for i in range(7):\n",
    "    if BOXS[i] == 5:\n",
    "        ans = ans +1\n",
    "\n",
    "print(ans)"
   ]
  },
  {
   "cell_type": "code",
   "execution_count": 32,
   "id": "d4b74fe9",
   "metadata": {},
   "outputs": [
    {
     "name": "stdout",
     "output_type": "stream",
     "text": [
      "3\n"
     ]
    }
   ],
   "source": [
    "BOXS=[10,20,5,10,5,5,10]\n",
    "ans=0\n",
    "for i in BOXS:\n",
    "    if i == 5:\n",
    "        ans+=1\n",
    "\n",
    "print(ans)"
   ]
  },
  {
   "cell_type": "code",
   "execution_count": null,
   "id": "08dfafc9",
   "metadata": {},
   "outputs": [],
   "source": []
  }
 ],
 "metadata": {
  "kernelspec": {
   "display_name": "pythonclass-py-3.12",
   "language": "python",
   "name": "python3"
  },
  "language_info": {
   "codemirror_mode": {
    "name": "ipython",
    "version": 3
   },
   "file_extension": ".py",
   "mimetype": "text/x-python",
   "name": "python",
   "nbconvert_exporter": "python",
   "pygments_lexer": "ipython3",
   "version": "3.12.10"
  }
 },
 "nbformat": 4,
 "nbformat_minor": 5
}
