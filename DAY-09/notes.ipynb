{
 "cells": [
  {
   "cell_type": "code",
   "execution_count": 3,
   "id": "abea2061",
   "metadata": {},
   "outputs": [
    {
     "name": "stdout",
     "output_type": "stream",
     "text": [
      "80\n"
     ]
    }
   ],
   "source": [
    "li = [1,5,10,20,5,8,80]\n",
    "# n=len(li)\n",
    "\n",
    "ans=0\n",
    "for i in range(len(li)):\n",
    "    value = li[i]\n",
    "\n",
    "    if value > ans:\n",
    "        ans = value\n",
    "\n",
    "print(ans)\n",
    "\n"
   ]
  },
  {
   "cell_type": "code",
   "execution_count": 4,
   "id": "48591492",
   "metadata": {},
   "outputs": [
    {
     "name": "stdout",
     "output_type": "stream",
     "text": [
      "80\n"
     ]
    }
   ],
   "source": [
    "li = [1,5,10,20,5,8,80]\n",
    "# n=len(li)\n",
    "\n",
    "ans=0\n",
    "for i in range(len(li)):\n",
    "    value = li[i]\n",
    "\n",
    "    ans = max(ans,value)\n",
    "\n",
    "print(ans)"
   ]
  },
  {
   "cell_type": "code",
   "execution_count": null,
   "id": "2b399802",
   "metadata": {},
   "outputs": [
    {
     "name": "stdout",
     "output_type": "stream",
     "text": [
      "50\n"
     ]
    }
   ],
   "source": [
    "# Max functions\n",
    "print(max(1,10,30,40,50,1))"
   ]
  },
  {
   "cell_type": "code",
   "execution_count": null,
   "id": "d4102da1",
   "metadata": {},
   "outputs": [
    {
     "name": "stdout",
     "output_type": "stream",
     "text": [
      "1\n"
     ]
    }
   ],
   "source": [
    "#min function\n",
    "print(min(1,10,30,40,50,1,2,4))"
   ]
  },
  {
   "cell_type": "code",
   "execution_count": 10,
   "id": "a05c6d84",
   "metadata": {},
   "outputs": [
    {
     "name": "stdout",
     "output_type": "stream",
     "text": [
      "0\n",
      "1\n",
      "2\n"
     ]
    }
   ],
   "source": [
    "#Double for loop\n",
    "\n",
    "for i in range(3):\n",
    "    print(i)"
   ]
  },
  {
   "cell_type": "code",
   "execution_count": 12,
   "id": "b2c2dde8",
   "metadata": {},
   "outputs": [
    {
     "name": "stdout",
     "output_type": "stream",
     "text": [
      "0 starting\n",
      "1 starting\n",
      "2 starting\n"
     ]
    }
   ],
   "source": [
    "for i in range(3):\n",
    "    print(i,'starting')"
   ]
  },
  {
   "cell_type": "code",
   "execution_count": 14,
   "id": "04f7fc1b",
   "metadata": {},
   "outputs": [
    {
     "name": "stdout",
     "output_type": "stream",
     "text": [
      "0 starting\n",
      "1 starting\n",
      "2 starting\n",
      "ending\n"
     ]
    }
   ],
   "source": [
    "for i in range(3):\n",
    "    print(i,'starting')\n",
    "print(\"ending\")"
   ]
  },
  {
   "cell_type": "code",
   "execution_count": 16,
   "id": "adc95fba",
   "metadata": {},
   "outputs": [
    {
     "name": "stdout",
     "output_type": "stream",
     "text": [
      "0 starting\n",
      "0  i am inside\n",
      "1  i am inside\n",
      "ending\n",
      "1 starting\n",
      "0  i am inside\n",
      "1  i am inside\n",
      "ending\n",
      "2 starting\n",
      "0  i am inside\n",
      "1  i am inside\n",
      "ending\n"
     ]
    }
   ],
   "source": [
    "for i in range(3):\n",
    "    print(i,'starting')\n",
    "    for j in range(2):\n",
    "        print(j,\" i am inside\")\n",
    "    print(\"ending\")"
   ]
  },
  {
   "cell_type": "code",
   "execution_count": 18,
   "id": "37450b9c",
   "metadata": {},
   "outputs": [
    {
     "name": "stdout",
     "output_type": "stream",
     "text": [
      "0 starting\n",
      "i am inside\n",
      "i am inside\n",
      "ending\n",
      "1 starting\n",
      "i am inside\n",
      "i am inside\n",
      "ending\n",
      "2 starting\n",
      "i am inside\n",
      "i am inside\n",
      "ending\n",
      "3 starting\n",
      "i am inside\n",
      "i am inside\n",
      "ending\n"
     ]
    }
   ],
   "source": [
    "for i in range(4):\n",
    "    print(i,'starting')\n",
    "    for j in range(2):\n",
    "        print(\"i am inside\")\n",
    "    print(\"ending\")"
   ]
  },
  {
   "cell_type": "markdown",
   "id": "10b52c9b",
   "metadata": {},
   "source": [
    "https://leetcode.com/problems/jewels-and-stones/description/"
   ]
  },
  {
   "cell_type": "markdown",
   "id": "92783440",
   "metadata": {},
   "source": []
  },
  {
   "cell_type": "code",
   "execution_count": 19,
   "id": "23ac3eb3",
   "metadata": {},
   "outputs": [
    {
     "name": "stdout",
     "output_type": "stream",
     "text": [
      "a\n",
      "A\n"
     ]
    }
   ],
   "source": [
    "jewels = \"aA\"\n",
    "stones = \"aAAbbbb\"\n",
    "\n",
    "for i in jewels:\n",
    "    print(i)\n"
   ]
  },
  {
   "cell_type": "code",
   "execution_count": 20,
   "id": "9f9d874c",
   "metadata": {},
   "outputs": [
    {
     "name": "stdout",
     "output_type": "stream",
     "text": [
      "1\n",
      "3\n",
      "5\n",
      "6\n",
      "8\n"
     ]
    }
   ],
   "source": [
    "li = [1,3,5,6,8]\n",
    "\n",
    "for i in li:\n",
    "    print(i)"
   ]
  },
  {
   "cell_type": "code",
   "execution_count": 23,
   "id": "c7e7fe5a",
   "metadata": {},
   "outputs": [
    {
     "name": "stdout",
     "output_type": "stream",
     "text": [
      "a\n",
      "a a\n",
      "a A\n",
      "a A\n",
      "a b\n",
      "a b\n",
      "a b\n",
      "a b\n",
      "A\n",
      "A a\n",
      "A A\n",
      "A A\n",
      "A b\n",
      "A b\n",
      "A b\n",
      "A b\n"
     ]
    }
   ],
   "source": [
    "jewels = \"aA\"\n",
    "stones = \"aAAbbbb\"\n",
    "\n",
    "for i in jewels:\n",
    "    print(i)\n",
    "    for j in stones:\n",
    "        print(i,j)"
   ]
  },
  {
   "cell_type": "code",
   "execution_count": 24,
   "id": "b6706bb8",
   "metadata": {},
   "outputs": [
    {
     "name": "stdout",
     "output_type": "stream",
     "text": [
      "a\n",
      "A\n",
      "3\n"
     ]
    }
   ],
   "source": [
    "jewels = \"aA\"\n",
    "stones = \"aAAbbbb\"\n",
    "ans=0\n",
    "for i in jewels:\n",
    "    print(i)\n",
    "    for j in stones:\n",
    "        if i == j:\n",
    "            ans=ans+1\n",
    "print(ans)"
   ]
  },
  {
   "cell_type": "code",
   "execution_count": 25,
   "id": "04f36ae3",
   "metadata": {},
   "outputs": [
    {
     "name": "stdout",
     "output_type": "stream",
     "text": [
      "3\n"
     ]
    }
   ],
   "source": [
    "jewels = \"aA\"\n",
    "stones = \"aAAbbbb\"\n",
    "ans=0\n",
    "for i in jewels:\n",
    "    # print(i)\n",
    "    for j in stones:\n",
    "        if i == j:\n",
    "            ans+=1\n",
    "print(ans)"
   ]
  },
  {
   "cell_type": "code",
   "execution_count": 26,
   "id": "fef62b51",
   "metadata": {},
   "outputs": [
    {
     "name": "stdout",
     "output_type": "stream",
     "text": [
      "3\n"
     ]
    }
   ],
   "source": [
    "jewels = \"aA\"\n",
    "stones = \"aAAbbbb\"\n",
    "ans=0\n",
    "for i in range(len(jewels)):\n",
    "    chi = jewels[i]\n",
    "    for j in range(len(stones)):\n",
    "        chj = stones[j]\n",
    "        if chi == chj:\n",
    "            ans+=1\n",
    "print(ans)"
   ]
  },
  {
   "cell_type": "markdown",
   "id": "f7aa245d",
   "metadata": {},
   "source": [
    "#  Maximum Number of Words Found in Sentences\n",
    "A sentence is a list of words that are separated by a single space with no leading or trailing spaces.\n",
    "\n",
    "You are given an array of strings sentences, where each sentences[i] represents a single sentence.\n",
    "https://leetcode.com/problems/maximum-number-of-words-found-in-sentences/description/"
   ]
  },
  {
   "cell_type": "markdown",
   "id": "647d3820",
   "metadata": {},
   "source": []
  },
  {
   "cell_type": "code",
   "execution_count": null,
   "id": "10ac7acd",
   "metadata": {},
   "outputs": [
    {
     "name": "stdout",
     "output_type": "stream",
     "text": [
      "5\n"
     ]
    }
   ],
   "source": [
    "s=\"Welcome to ITkannadigaru and kannada\"\n",
    "\n",
    "temp =1\n",
    "for i in s:\n",
    "    if i == \" \":\n",
    "        temp+=1\n",
    "print(temp)"
   ]
  },
  {
   "cell_type": "code",
   "execution_count": 32,
   "id": "95c91d24",
   "metadata": {},
   "outputs": [
    {
     "name": "stdout",
     "output_type": "stream",
     "text": [
      "6\n"
     ]
    }
   ],
   "source": [
    "sentences = [\"alice and bob love leetcode\", \"i think so too\", \"this is great thanks very much\"]\n",
    "ans = 0\n",
    "for i in range(len(sentences)):\n",
    "    s=sentences[i]\n",
    "    temp = 1\n",
    "    for j in range(len(s)):\n",
    "        if s[j] == \" \":\n",
    "            temp += 1\n",
    "    ans = max(ans,temp)\n",
    "print(ans)"
   ]
  },
  {
   "cell_type": "code",
   "execution_count": null,
   "id": "7bd067c9",
   "metadata": {},
   "outputs": [
    {
     "name": "stdout",
     "output_type": "stream",
     "text": [
      "alice and bob love leetcode\n",
      "5\n",
      "i think so too\n",
      "4\n",
      "this is great thanks very much\n",
      "6\n",
      "6\n"
     ]
    }
   ],
   "source": [
    "sentences = [\"alice and bob love leetcode\", \"i think so too\", \"this is great thanks very much\"]\n",
    "ans = 0 \n",
    "for i in range(len(sentences)):\n",
    "    print(sentences[i])\n",
    "    temp=1\n",
    "    for j in range(len(sentences[i])):\n",
    "        if sentences[i][j]==' ':\n",
    "            temp+=1\n",
    "    print(temp)\n",
    "\n",
    "# print(max(ans, temp))"
   ]
  },
  {
   "cell_type": "markdown",
   "id": "32673c6b",
   "metadata": {},
   "source": [
    "https://leetcode.com/problems/number-of-valid-words-in-a-sentence/description/"
   ]
  },
  {
   "cell_type": "code",
   "execution_count": null,
   "id": "ae123ac9",
   "metadata": {},
   "outputs": [],
   "source": []
  }
 ],
 "metadata": {
  "kernelspec": {
   "display_name": "pythonclass-py-3.12",
   "language": "python",
   "name": "python3"
  },
  "language_info": {
   "codemirror_mode": {
    "name": "ipython",
    "version": 3
   },
   "file_extension": ".py",
   "mimetype": "text/x-python",
   "name": "python",
   "nbconvert_exporter": "python",
   "pygments_lexer": "ipython3",
   "version": "3.12.10"
  }
 },
 "nbformat": 4,
 "nbformat_minor": 5
}
